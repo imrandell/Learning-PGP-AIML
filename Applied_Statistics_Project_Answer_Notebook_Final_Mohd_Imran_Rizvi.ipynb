{
 "cells": [
  {
   "cell_type": "markdown",
   "metadata": {},
   "source": [
    "PGP - AIML MODULE PROEJCT\n",
    "\n",
    "FEB-2024"
   ]
  },
  {
   "cell_type": "markdown",
   "metadata": {},
   "source": [
    "\n",
    "PART- a"
   ]
  },
  {
   "cell_type": "markdown",
   "metadata": {},
   "source": [
    "Please answer the following questions with all relevant assumptions, explanations and details. \n",
    "1. Please refer the table below to answer below questions: [2 Marks]\n",
    "1.A. Refer above table and find the joint probability of the people who planned to purchase and actually placed an order. [1 Mark]\n",
    "1.B. Refer to the above table and find the joint probability of the people who planned to purchase and actually placed an order, given that \n",
    "people planned to purchase. [1 Mark]\n",
    "2. An electrical manufacturing company conducts quality checks at specified periods on the products it manufactures. Historically, the \n",
    "failure rate for the manufactured item is 5%. Suppose a random sample of 10 manufactured items is selected. Answer the following \n",
    "questions. [4 Marks]\n",
    "2.A. Probability that none of the items are defective? [1 Mark]\n",
    "2.B. Probability that exactly one of the items is defective? [1 Mark]\n",
    "2.C. Probability that two or fewer of the items are defective? [1 Mark]\n",
    "2.D. Probability that three or more of the items are defective ? [1 Mark]\n",
    "3. A car salesman sells on an average 3 cars per week. [3 Marks]\n",
    "3.A. What is Probability that in a given week he will sell some cars? [1 Mark]\n",
    "3.B. What is Probability that in a given week he will sell 2 or more but less than 5 cars? [1 Mark]\n",
    "3.C. Plot the poisson distribution function for cumulative probability of cars sold per-week vs number of cars sold per week. [1 Mark]\n",
    "4. Accuracy in understanding orders for a speech based bot at a restaurant is important for the Company X which has designed, \n",
    "marketed and launched the product for a contactless delivery due to the COVID-19 pandemic. Recognition accuracy that measures the \n",
    "percentage of orders that are taken correctly is 86.8%. Suppose that you place an order with the bot and two friends of yours \n",
    "independently place orders with the same bot. Answer the following questions. [3 Marks] \n",
    "4.A. What is the probability that all three orders will be recognised correctly? [1 Mark]\n",
    "4.B. What is the probability that none of the three orders will be recognised correctly? [1 Mark]\n",
    "4.C. What is the probability that at least two of the three orders will be recognised correctly? [1 Mark]\n",
    "5. Explain 1 real life industry scenario (other than the ones mentioned above) where you can use the concepts learnt in this module of \n",
    "Applied Statistics to get data driven business solution. [3 Marks] "
   ]
  },
  {
   "cell_type": "markdown",
   "metadata": {},
   "source": [
    "Please refer the table below to answer below questions:\n",
    "\n",
    "1.A. Refer above table and find the joint probability of the people who planned to purchase and actually placed an order.\n",
    "\n",
    "question rephased: What is the probability of a randomly selected people who planned to purchase and actually placed an order"
   ]
  },
  {
   "cell_type": "code",
   "execution_count": 259,
   "metadata": {},
   "outputs": [
    {
     "name": "stdout",
     "output_type": "stream",
     "text": [
      "  Planned_To_Purchase  Order_Placed  Order_Not_Placed\n",
      "0                 Yes           400               100\n",
      "1                  No           200              1300\n"
     ]
    }
   ],
   "source": [
    "import pandas as pd\n",
    "\n",
    "# Create the data with self explainary variable and field names\n",
    "data = {\n",
    "    'Planned_To_Purchase': ['Yes', 'No'],\n",
    "    'Order_Placed': [400, 200],\n",
    "    'Order_Not_Placed': [100, 1300],\n",
    "}\n",
    "\n",
    "# Create DataFrame\n",
    "df = pd.DataFrame(data);\n",
    "\n",
    "print(df);"
   ]
  },
  {
   "cell_type": "code",
   "execution_count": 260,
   "metadata": {},
   "outputs": [
    {
     "name": "stdout",
     "output_type": "stream",
     "text": [
      "Answer 1 : Joint probability of Planned to purchase = 0.2\n"
     ]
    }
   ],
   "source": [
    "People_Planned_And_Purchased =df[df['Planned_To_Purchase'] == 'Yes']['Order_Placed']\n",
    "Total_People =df.iloc[:,1:3].sum().sum()\n",
    "joint_probability_plan_and_purchansed = ( People_Planned_And_Purchased / Total_People)\n",
    "\n",
    "print(f\"Answer 1 : Joint probability of Planned to purchase = {joint_probability_plan_and_purchansed[0]}\");"
   ]
  },
  {
   "cell_type": "markdown",
   "metadata": {},
   "source": [
    "1.B. Refer to the above table and find the joint probability of the people who planned to purchase and actually placed an order, given that \n",
    "people planned to purchase. "
   ]
  },
  {
   "cell_type": "code",
   "execution_count": 261,
   "metadata": {},
   "outputs": [
    {
     "name": "stdout",
     "output_type": "stream",
     "text": [
      "Answer 2 : Conditional probability of People Planned and purchase given Planned to purchase = 0.8\n"
     ]
    }
   ],
   "source": [
    "People_Planned_To_Purchase = df[df['Planned_To_Purchase'] == 'Yes'].iloc[:,1:3].sum().sum()\n",
    "\n",
    "conditional_probability_plan_and_purchased_given_planned_to_purchase = People_Planned_And_Purchased/People_Planned_To_Purchase \n",
    "\n",
    "print(f\"Answer 2 : Conditional probability of People Planned and purchase given Planned to purchase = {conditional_probability_plan_and_purchased_given_planned_to_purchase[0]}\");"
   ]
  },
  {
   "cell_type": "markdown",
   "metadata": {},
   "source": [
    "2. An electrical manufacturing company conducts quality checks at specified periods on the products it manufactures. Historically, the \n",
    "failure rate for the manufactured item is 5%. Suppose a random sample of 10 manufactured items is selected. Answer the following \n",
    "questions."
   ]
  },
  {
   "cell_type": "code",
   "execution_count": 262,
   "metadata": {},
   "outputs": [],
   "source": [
    "Failure_Probability = 0.5\n",
    "Sample_Size = 10"
   ]
  },
  {
   "cell_type": "markdown",
   "metadata": {},
   "source": [
    "\n",
    "Question 2.A. Probability that none of the items are defective?\n",
    "\n",
    "Answer: Because probability outcome of a single trial can only have two possible outcomes, thus we will apply the Binomial probability formula, i.e.:\n",
    "P(X = k) = (n choose k) * p^k * (1-p)^(n-k)\n",
    "\n",
    "P(X=0) = (10 choose 0) * .05^0 * (.95)^(10)\n",
    "P(X=0) = 1 * 1 * 0.5987\n",
    "P(X=0) = 0.5987 =  approx 60%"
   ]
  },
  {
   "cell_type": "code",
   "execution_count": 263,
   "metadata": {},
   "outputs": [
    {
     "name": "stdout",
     "output_type": "stream",
     "text": [
      "Probability: 0.5987369392383789\n"
     ]
    }
   ],
   "source": [
    "from scipy.stats import binom\n",
    "\n",
    "n = no_of_trials = 10  \n",
    "probability_of_success = 0.05 # in this case probability of failure against trail  \n",
    "\n",
    "#Number of successes you want to find the probability for\n",
    "k = required_no_of_success = 0  #For the question, we want to find the probability of 0 defective items\n",
    "\n",
    "probability_mass_function = binom.pmf(k, no_of_trials, probability_of_success)\n",
    "print(\"Probability:\", probability_mass_function)"
   ]
  },
  {
   "cell_type": "code",
   "execution_count": 264,
   "metadata": {},
   "outputs": [
    {
     "name": "stdout",
     "output_type": "stream",
     "text": [
      "Probability to get exact 1 defective item: 0.3151247048623047\n",
      "Probability to get exact 2 defective items: 0.07463479852001963\n",
      "Probability to get <= 2 defective items: 0.9884964426207031\n",
      "Probability to get >= 3 defective items: 0.01150355737929688\n"
     ]
    }
   ],
   "source": [
    "#Question 2B: Probability that exactly one of the items is defective?\n",
    "no_of_trials = n = 10  \n",
    "probability_of_success = p = 0.05\n",
    "required_no_of_success = k = 1  #For the question, we want to find the probability of 1 defective item\n",
    "p_to_get_exact_1_defective_item = binom.pmf(required_no_of_success, no_of_trials, probability_of_success)\n",
    "print(\"Probability to get exact 1 defective item:\", p_to_get_exact_1_defective_item)\n",
    "\n",
    "#Question 2C: Probability that exactly two of the items are defective?\n",
    "k = required_no_of_success = 2  #For the question, we want to find the probability of exact 2 defective items\n",
    "p_to_get_exact_2_defective_item = binom.pmf(required_no_of_success, no_of_trials, probability_of_success)\n",
    "print(\"Probability to get exact 2 defective items:\", p_to_get_exact_2_defective_item)\n",
    "\n",
    "#Question 2C: Probability that two or fewer of the items are defective?\n",
    "k = required_no_of_maximum_success = 2 #because we need to find a cumulative success from 0 to 2 , thus I will use the cdf function   \n",
    "p_to_get_max_2_defective_item = binom.cdf(required_no_of_maximum_success, no_of_trials, probability_of_success)\n",
    "print(\"Probability to get <= 2 defective items:\", p_to_get_max_2_defective_item)\n",
    "\n",
    "#Question 2D: Probability that three or more of the items are defective?\n",
    "#because we need to find a cumulative success from 3 to 10 , as the range not starting from 0, thus I will use Survival function\n",
    "#Note: sf function needs k to have more than not \"more than and euqal to\" thus I am using 2 , because 3 or more is >2\n",
    "k = required_no_of_success_more_than = 2 \n",
    "p_to_get_min_3_defective_item = binom.sf(required_no_of_success_more_than, no_of_trials, probability_of_success)\n",
    "print(\"Probability to get >= 3 defective items:\", p_to_get_min_3_defective_item)"
   ]
  },
  {
   "cell_type": "markdown",
   "metadata": {},
   "source": [
    "Scenario 3. A car salesman sells on an average 3 cars per week."
   ]
  },
  {
   "cell_type": "code",
   "execution_count": 265,
   "metadata": {},
   "outputs": [
    {
     "name": "stdout",
     "output_type": "stream",
     "text": [
      "Probability that sales person will sell some (1 or more) cars: = \"0.8008517265285442\n",
      "Probability that sales person will sell >=2 and < 5 cars: = \"0.6161149710523164\n",
      "Probability that sales person will sell >=2 and < 5 cars: = \"0.6161149710523164\n"
     ]
    }
   ],
   "source": [
    "#here we have avg rate of occurance and we need to find the P from it, thus we will use Poisson fn from scipy\n",
    "from scipy.stats import poisson\n",
    "\n",
    "average_rate_of_occurance = mu =  3\n",
    "\n",
    "#Question 3A: What is Probability that in a given week he will sell some cars?\n",
    "#because the fn does not allow to enter required_p_for_minimum_occurance directly, rather it allows to idenfiy cumulative probability from minimum to given occurance\n",
    "#, thus we will find the p for 0 occurance and then deduct it from 1 to find the P for all other occurances \n",
    "required_p_for_minimum_occurance = k = 1 \n",
    "p_for_given_or_more_occurance = 1-poisson.cdf(required_p_for_minimum_occurance, average_rate_of_occurance)\n",
    "print(f'Probability that sales person will sell some (1 or more) cars: = \"{p_for_given_or_more_occurance }')\n",
    "\n",
    "#Question 3B: What is Probability that in a given week he will sell 2 or more but less than 5 cars?\n",
    "required_p_for_min_occurance = 2\n",
    "required_p_for_max_occurance = 5\n",
    "#we can calulate using cdf function, because it does not provide direct range based calculation, thus we need to find the cumilate (0 or given) P for min and max , then deduct max P from min P\n",
    "required_p_upto_min_occurance = required_p_for_min_occurance-1\n",
    "required_p_upto_max_occurance = required_p_for_max_occurance-1\n",
    "p_for_min_occurance = poisson.cdf(required_p_upto_min_occurance, average_rate_of_occurance)\n",
    "p_for_max_occurance = poisson.cdf(required_p_upto_max_occurance, average_rate_of_occurance)\n",
    "print(f'Probability that sales person will sell >=2 and < 5 cars: = \"{p_for_max_occurance - p_for_min_occurance}')\n",
    "#another way : because we know exactly the 3 point where we need probability to calculate, and then we can sum them to get the answer, thus we can also use mass function.\n",
    "print(f'Probability that sales person will sell >=2 and < 5 cars: = \"{poisson.pmf(2,average_rate_of_occurance)+poisson.pmf(3,average_rate_of_occurance)+poisson.pmf(4,average_rate_of_occurance)}')"
   ]
  },
  {
   "cell_type": "code",
   "execution_count": 266,
   "metadata": {},
   "outputs": [
    {
     "data": {
      "image/png": "[encoded data removed]",
      "text/plain": [
       "<Figure size 640x480 with 1 Axes>"
      ]
     },
     "metadata": {},
     "output_type": "display_data"
    }
   ],
   "source": [
    "#Question 3C: Plot the poisson distribution function for cumulative probability of cars sold per-week vs number of cars sold per week.\n",
    "import numpy as np\n",
    "import matplotlib.pyplot as plt\n",
    "\n",
    "#Generate x values (number of cars sold per week)\n",
    "x_values = np.arange(0, 11)  #Let's consider up to 10 cars sold\n",
    "\n",
    "#Calculate the cumulative probabilities for each x value\n",
    "cumulative_probabilities = poisson.cdf(x_values, average_rate_of_occurance)\n",
    "\n",
    "#Plot the Poisson distribution function\n",
    "plt.plot(x_values, cumulative_probabilities)\n",
    "plt.title(\"Probability of 'cars sold per week' vs 'number of cars sold per week'\")\n",
    "plt.xlabel('Number of cars sold per week')\n",
    "plt.ylabel('cumulative probability')\n",
    "plt.grid(True)\n",
    "plt.show()"
   ]
  },
  {
   "cell_type": "markdown",
   "metadata": {},
   "source": [
    "Scenario 4. Accuracy in understanding orders for a speech based bot at a restaurant is important for the Company X which has designed, \n",
    "marketed and launched the product for a contactless delivery due to the COVID-19 pandemic. Recognition accuracy that measures the \n",
    "percentage of orders that are taken correctly is 86.8%. Suppose that you place an order with the bot and two friends of yours \n",
    "independently place orders with the same bot. Answer the following questions."
   ]
  },
  {
   "cell_type": "code",
   "execution_count": 267,
   "metadata": {},
   "outputs": [
    {
     "name": "stdout",
     "output_type": "stream",
     "text": [
      "Answer 4A: The probability that all three orders will be recognized = 0.653972032 or by using mass function = 0.653972032\n",
      "Answer 4B: Probability that none of the three orders will be recognized correctly: = 0.0022999680000000003  or by using mass function = 0.002299968\n",
      "Answer 4C: probability that at least two of the three orders will be recognised correctly: = 0.952327936\n"
     ]
    }
   ],
   "source": [
    "#For this scenario we know that the probability will be cumulation of result of either true or false thus we will us binomial functions\n",
    "probability_of_success = p = 0.868\n",
    "no_of_trials = no_of_orders = 3\n",
    "\n",
    "#Question 4A: What is the probability that all three orders will be recognised correctly?\n",
    "#Anwer: here we need to find the probability of occuring three success independently, thus we will multiply the independent probability\n",
    "print (f\"Answer 4A: The probability that all three orders will be recognized = {.868**3} or by using mass function = {binom.pmf(3,no_of_orders,probability_of_success)}\")\n",
    "\n",
    "#Question 4B: What is the probability that none of the three orders will be recognised correctly?\n",
    "#Answer: herw wee need to find the probability of each order not getting recognized first, then we need to find the P when the same event occurs trice, #For this we will  multiple the (1-p_of_success) 3 times\n",
    "print (f\"Answer 4B: Probability that none of the three orders will be recognized correctly: = {(1-.868)**3}  or by using mass function = {binom.pmf(0,no_of_orders,probability_of_success)}\")\n",
    "\n",
    "#Question 4C: What is the probability that at least two of the three orders will be recognised correctly?\n",
    "#Answer: herw wee need to find the cumulative probability upto 2 successful occurance, #For this we an use cdf function\n",
    "required_no_of_minimum_success = k = 2\n",
    "#because cdf function takes required_no_of_maximum_success, and in this case we need required_no_of_minimum_success thus we need first find required_no_of_minimum_success of the orders\n",
    "#i.e. cumulative probability upto 1 success orders, then reuce it from total possible probability i.e. 1\n",
    "from scipy.stats import binom\n",
    "P_for_minimum_of_2_occurance = 1 - binom.cdf(1, no_of_trials, probability_of_success)\n",
    "print (f\"Answer 4C: probability that at least two of the three orders will be recognised correctly: = {P_for_minimum_of_2_occurance}\")"
   ]
  },
  {
   "cell_type": "markdown",
   "metadata": {},
   "source": [
    "**PART-A Last Question : Explain 1 real life industry scenario (other than the ones mentioned above) where you can use the concepts learnt in this module of \n",
    "Applied Statistics to get data driven business solution."
   ]
  },
  {
   "cell_type": "markdown",
   "metadata": {},
   "source": [
    "I would like to take this opportunity to explain the Dell's (my current organization) \"Supply Chain and Order Promising for Stocked system in US\" scenario\n",
    "\n",
    "Here we go:\n",
    "\n",
    "Real-life Industry Scenario: Enhancing Estimated Delivery Date (EDD) Accuracy for Dell's Build to Stock (BTS) Systems in the US\n",
    "Objective:\n",
    "The aim is to improve the accuracy of Estimated Delivery Dates (EDD) for Dell's Build to Stock (BTS) systems among US customers. This enhancement will leverage applied statistics techniques, utilizing historical data and considering potential hidden inventory.\n",
    "\n",
    "Key Variables: I've categorized those in various contexts.\n",
    "\n",
    "A: Product Taxonomy: Categorization of products to optimize production schedules.\n",
    "Shipping Method: Analysis of shipping methods to estimate delivery times and streamline logistics.\n",
    "Timespan:\n",
    "\n",
    "B:Order Day of Week: Examination of weekly demand patterns to optimize staffing and production schedules.\n",
    "Hour-Slab of the Day: Identification of peak order hours for efficient resource allocation.\n",
    "Geo Context:\n",
    "\n",
    "C:Business Unit: Analysis of regional demand variations to optimize inventory allocation.\n",
    "Ship To State: Consideration of regional shipping constraints for accurate delivery time estimates.\n",
    "Priority Context:\n",
    "\n",
    "D: Prioritization Identifier: Identification of priority orders to ensure timely delivery for key customers.\n",
    "Customer Context:\n",
    "\n",
    "E: Customer Segments: Analysis of demand patterns across different customer segments for tailored production and delivery strategies.\n",
    "Company Number: Tracking of orders based on customer companies to prioritize accordingly.\n",
    "Availability Context:\n",
    "\n",
    "F: Inventory: Assessment of current inventory levels to determine production and delivery capabilities.\n",
    "Backlogs: Identification of pending orders impacting future delivery schedules.\n",
    "Probability and Distributions:\n",
    "Bayes Theorem: Assessing the likelihood of meeting EDD targets based on historical data and contextual variables.\n",
    "Inferential Statistics: Analyzing sample data to optimize production schedules.\n",
    "Binomial Distribution: Modeling discrete events such as order quantities for prioritizing production schedules.\n",
    "Normal Distribution: Modeling demand variability for accurate production and delivery targets.\n",
    "Poisson Distribution: Modeling the variability of lead times and shipping times for EDD predictions.\n",
    "Implementation and Integration of Python's SciPy Functions:\n",
    "Utilization of SciPy's functions for descriptive statistics, regression analysis, and distribution fitting to optimize EDD predictions. Python programming will be applied to implement statistical models and analyze historical data effectively.\n",
    "\n",
    "Analysis Approach:\n",
    "Descriptive Analysis: Analyzing historical data to identify demand patterns and trends.\n",
    "Inferential Analysis: Applying statistical techniques to optimize production schedules.\n",
    "Multivariate Analysis: Identifying significant variables affecting EDD accuracy for optimized strategies.\n",
    "Time Series Analysis: Forecasting future demand trends for adjustments in production and delivery schedules.\n",
    "Customer Sentiment Analysis:\n",
    "Analyzing customer sentiments to understand preferences regarding delivery timings and adjusting EDD predictions accordingly. Identifying customer tolerance levels for early or late deliveries to meet expectations.\n",
    "\n",
    "Hidden Inventory Analysis:\n",
    "Analyzing historical data to identify patterns of hidden inventory and adjusting EDD predictions. Developing strategies to mitigate the impact of hidden inventory on EDD accuracy and optimizing production schedules.\n",
    "\n",
    "Probabilistic Approach using Applied Statistics:\n",
    "Delivery Delay Analysis: Utilizing descriptive statistics and probability distributions to analyze and predict delivery delays.\n",
    "Historical Data Analysis: Employing time series analysis to identify trends in order placement times and delivery performance.\n",
    "Peak Order Time Analysis: Utilizing clustering techniques to identify peak order times and adjust SDS cut-off times accordingly.\n",
    "Correlation Analysis: Investigating correlations between order volumes, fulfillment capacities, and same-day delivery success rates to optimize cut-off times.\n",
    "By applying these techniques, Dell can enhance its BTS systems' EDD accuracy, leading to improved customer satisfaction and operational efficiency in the US market."
   ]
  },
  {
   "cell_type": "markdown",
   "metadata": {},
   "source": [
    "\n",
    "**DOMAIN: Sports**\n",
    "\n",
    "**• CONTEXT:**\n",
    "\n",
    "Company X manages the men's top professional basketball division of the American league system. The dataset contains information on all the teams that have participated in all the past tournaments. It has data about how many baskets each team scored, conceded, how many times they came within the first 2 positions, how many tournaments they have qualified, their best position in the past, etc.\n",
    "\n",
    "• **DATA DESCRIPTION:** \n",
    "\n",
    "bb.csv - The data set contains information on all the teams so far participated in all the past tournaments.\n",
    "\n",
    "**• ATTRIBUTE INFORMATION:**\n",
    "1. Team: Team’s name\n",
    "2. Tournament: Number of played tournaments.\n",
    "3. Score: Team’s score so far.\n",
    "4. PlayedGames: Games played by the team so far.\n",
    "5. WonGames: Games won by the team so far.\n",
    "6. DrawnGames: Games drawn by the team so far.\n",
    "7. LostGames: Games lost by the team so far.\n",
    "8. BasketScored: Basket scored by the team so far.\n",
    "9. BasketGiven: Basket scored against the team so far.\n",
    "10. TournamentChampion: How many times the team was a champion of the tournaments so far.\n",
    "11. Runner-up: How many times the team was a runners-up of the tournaments so far.\n",
    "12. TeamLaunch: Year the team was launched on professional bb.\n",
    "13. HighestPositionHeld: Highest position held by the team amongst all the tournaments played.\n",
    "\n",
    "**• PROJECT OBJECTIVE:** \n",
    "\n",
    "Company’s management wants to invest on proposal on managing some of the best teams in the league. The analytics department has been assigned with a task of creating a report on the performance shown by the teams. Some of the older teams are already in contract with competitors. Hence Company X wants to understand which teams they can approach which will be a deal win for them.\n",
    "\n",
    "Steps and tasks: [ Total Score: 15 points]\n",
    "1. Read the data set, clean the data and prepare a final dataset to be used for analysis.\n",
    "2. Perform detailed statistical analysis and EDA using univariate, bi-variate and multivariate EDA techniques to get a data\n",
    "driven insights on recommending which teams they can approach which will be a deal win for them.. Also as a data\n",
    "and statistics expert you have to develop a detailed performance report using this data.\n",
    "Hint: Use statistical techniques and visualisation techniques to come up with useful metrics and reporting. Find out\n",
    "the best performing team, oldest team, team with highest goals, team with lowest performance etc. and many more.\n",
    "These are just random examples please use your best analytical approach to build this report. You can mix match\n",
    "columns to create new ones which can be used for better analysis. Create your own features if required. Be highly\n",
    "experimental and analytical here to find hidden patterns. Use graphical interactive libraries to enable you to publish\n",
    "interactive plots in python.\n",
    "3. Please include any improvements or suggestions to the association management on quality, quantity, variety, velocity,\n",
    "veracity etc. on the data points collected by the association to perform a better data analysis in future."
   ]
  },
  {
   "cell_type": "code",
   "execution_count": 268,
   "metadata": {},
   "outputs": [
    {
     "name": "stdout",
     "output_type": "stream",
     "text": [
      "<class 'pandas.core.frame.DataFrame'>\n",
      "RangeIndex: 61 entries, 0 to 60\n",
      "Data columns (total 13 columns):\n",
      " #   Column               Non-Null Count  Dtype \n",
      "---  ------               --------------  ----- \n",
      " 0   Team                 61 non-null     object\n",
      " 1   Tournament           61 non-null     int64 \n",
      " 2   Score                61 non-null     object\n",
      " 3   PlayedGames          61 non-null     object\n",
      " 4   WonGames             61 non-null     object\n",
      " 5   DrawnGames           61 non-null     object\n",
      " 6   LostGames            61 non-null     object\n",
      " 7   BasketScored         61 non-null     object\n",
      " 8   BasketGiven          61 non-null     object\n",
      " 9   TournamentChampion   61 non-null     object\n",
      " 10  Runner-up            61 non-null     object\n",
      " 11  TeamLaunch           61 non-null     object\n",
      " 12  HighestPositionHeld  61 non-null     int64 \n",
      "dtypes: int64(2), object(11)\n",
      "memory usage: 6.3+ KB\n"
     ]
    },
    {
     "data": {
      "text/html": [
       "<div>\n",
       "<style scoped>\n",
       "    .dataframe tbody tr th:only-of-type {\n",
       "        vertical-align: middle;\n",
       "    }\n",
       "\n",
       "    .dataframe tbody tr th {\n",
       "        vertical-align: top;\n",
       "    }\n",
       "\n",
       "    .dataframe thead th {\n",
       "        text-align: right;\n",
       "    }\n",
       "</style>\n",
       "<table border=\"1\" class=\"dataframe\">\n",
       "  <thead>\n",
       "    <tr style=\"text-align: right;\">\n",
       "      <th></th>\n",
       "      <th>Team</th>\n",
       "      <th>Tournament</th>\n",
       "      <th>Score</th>\n",
       "      <th>PlayedGames</th>\n",
       "      <th>WonGames</th>\n",
       "      <th>DrawnGames</th>\n",
       "      <th>LostGames</th>\n",
       "      <th>BasketScored</th>\n",
       "      <th>BasketGiven</th>\n",
       "      <th>TournamentChampion</th>\n",
       "      <th>Runner-up</th>\n",
       "      <th>TeamLaunch</th>\n",
       "      <th>HighestPositionHeld</th>\n",
       "    </tr>\n",
       "  </thead>\n",
       "  <tbody>\n",
       "    <tr>\n",
       "      <th>56</th>\n",
       "      <td>Team 57</td>\n",
       "      <td>1</td>\n",
       "      <td>34</td>\n",
       "      <td>38</td>\n",
       "      <td>8</td>\n",
       "      <td>10</td>\n",
       "      <td>20</td>\n",
       "      <td>38</td>\n",
       "      <td>66</td>\n",
       "      <td>-</td>\n",
       "      <td>-</td>\n",
       "      <td>2009-10</td>\n",
       "      <td>20</td>\n",
       "    </tr>\n",
       "    <tr>\n",
       "      <th>57</th>\n",
       "      <td>Team 58</td>\n",
       "      <td>1</td>\n",
       "      <td>22</td>\n",
       "      <td>30</td>\n",
       "      <td>7</td>\n",
       "      <td>8</td>\n",
       "      <td>15</td>\n",
       "      <td>37</td>\n",
       "      <td>57</td>\n",
       "      <td>-</td>\n",
       "      <td>-</td>\n",
       "      <td>1956-57</td>\n",
       "      <td>16</td>\n",
       "    </tr>\n",
       "    <tr>\n",
       "      <th>58</th>\n",
       "      <td>Team 59</td>\n",
       "      <td>1</td>\n",
       "      <td>19</td>\n",
       "      <td>30</td>\n",
       "      <td>7</td>\n",
       "      <td>5</td>\n",
       "      <td>18</td>\n",
       "      <td>51</td>\n",
       "      <td>85</td>\n",
       "      <td>-</td>\n",
       "      <td>-</td>\n",
       "      <td>1951~52</td>\n",
       "      <td>16</td>\n",
       "    </tr>\n",
       "    <tr>\n",
       "      <th>59</th>\n",
       "      <td>Team 60</td>\n",
       "      <td>1</td>\n",
       "      <td>14</td>\n",
       "      <td>30</td>\n",
       "      <td>5</td>\n",
       "      <td>4</td>\n",
       "      <td>21</td>\n",
       "      <td>34</td>\n",
       "      <td>65</td>\n",
       "      <td>-</td>\n",
       "      <td>-</td>\n",
       "      <td>1955-56</td>\n",
       "      <td>15</td>\n",
       "    </tr>\n",
       "    <tr>\n",
       "      <th>60</th>\n",
       "      <td>Team 61</td>\n",
       "      <td>1</td>\n",
       "      <td>-</td>\n",
       "      <td>-</td>\n",
       "      <td>-</td>\n",
       "      <td>-</td>\n",
       "      <td>-</td>\n",
       "      <td>-</td>\n",
       "      <td>-</td>\n",
       "      <td>-</td>\n",
       "      <td>-</td>\n",
       "      <td>2017~18</td>\n",
       "      <td>9</td>\n",
       "    </tr>\n",
       "  </tbody>\n",
       "</table>\n",
       "</div>"
      ],
      "text/plain": [
       "       Team  Tournament Score PlayedGames WonGames DrawnGames LostGames  \\\n",
       "56  Team 57           1    34          38        8         10        20   \n",
       "57  Team 58           1    22          30        7          8        15   \n",
       "58  Team 59           1    19          30        7          5        18   \n",
       "59  Team 60           1    14          30        5          4        21   \n",
       "60  Team 61           1     -           -        -          -         -   \n",
       "\n",
       "   BasketScored BasketGiven TournamentChampion Runner-up TeamLaunch  \\\n",
       "56           38          66                  -         -    2009-10   \n",
       "57           37          57                  -         -    1956-57   \n",
       "58           51          85                  -         -    1951~52   \n",
       "59           34          65                  -         -    1955-56   \n",
       "60            -           -                  -         -    2017~18   \n",
       "\n",
       "    HighestPositionHeld  \n",
       "56                   20  \n",
       "57                   16  \n",
       "58                   16  \n",
       "59                   15  \n",
       "60                    9  "
      ]
     },
     "execution_count": 268,
     "metadata": {},
     "output_type": "execute_result"
    }
   ],
   "source": [
    "#Import basic packages\n",
    "import numpy as np    \n",
    "import pandas as pd\n",
    "\n",
    "#import csv to df\n",
    "bb = pd.read_csv('DS_Part2_BasketBall.csv') \n",
    "\n",
    "bb.describe(include='all')\n",
    "bb.info() \n",
    "#No null values in any of the column. \n",
    "#2 columns with datatype as int64 (Tournament and HighestPositionHeld)\n",
    "\n",
    "bb.shape \n",
    "\n",
    "#Data frame has 61 rows and 13 columns. \n",
    "\n",
    "bb.head()\n",
    "#top rows clearly shows invalid values '-' in TournamentChampion , runner-up columns, we will assume that the team has not won any chapion title or runner up for '-' value\n",
    "\n",
    "bb.tail()\n",
    "#last team has many missing data , we will remove the team from other analysis"
   ]
  },
  {
   "cell_type": "markdown",
   "metadata": {},
   "source": [
    "Data Cleaning"
   ]
  },
  {
   "cell_type": "code",
   "execution_count": 269,
   "metadata": {},
   "outputs": [
    {
     "name": "stdout",
     "output_type": "stream",
     "text": [
      "Team                   0\n",
      "Tournament             0\n",
      "Score                  0\n",
      "PlayedGames            0\n",
      "WonGames               0\n",
      "DrawnGames             0\n",
      "LostGames              0\n",
      "BasketScored           0\n",
      "BasketGiven            0\n",
      "TournamentChampion     0\n",
      "Runner-up              0\n",
      "TeamLaunch             0\n",
      "HighestPositionHeld    0\n",
      "dtype: int64\n"
     ]
    },
    {
     "data": {
      "text/html": [
       "<div>\n",
       "<style scoped>\n",
       "    .dataframe tbody tr th:only-of-type {\n",
       "        vertical-align: middle;\n",
       "    }\n",
       "\n",
       "    .dataframe tbody tr th {\n",
       "        vertical-align: top;\n",
       "    }\n",
       "\n",
       "    .dataframe thead th {\n",
       "        text-align: right;\n",
       "    }\n",
       "</style>\n",
       "<table border=\"1\" class=\"dataframe\">\n",
       "  <thead>\n",
       "    <tr style=\"text-align: right;\">\n",
       "      <th></th>\n",
       "      <th>Team</th>\n",
       "      <th>Tournament</th>\n",
       "      <th>Score</th>\n",
       "      <th>PlayedGames</th>\n",
       "      <th>WonGames</th>\n",
       "      <th>DrawnGames</th>\n",
       "      <th>LostGames</th>\n",
       "      <th>BasketScored</th>\n",
       "      <th>BasketGiven</th>\n",
       "      <th>TournamentChampion</th>\n",
       "      <th>Runner-up</th>\n",
       "      <th>TeamLaunch</th>\n",
       "      <th>HighestPositionHeld</th>\n",
       "    </tr>\n",
       "  </thead>\n",
       "  <tbody>\n",
       "    <tr>\n",
       "      <th>0</th>\n",
       "      <td>Team 1</td>\n",
       "      <td>86</td>\n",
       "      <td>4385</td>\n",
       "      <td>2762</td>\n",
       "      <td>1647</td>\n",
       "      <td>552</td>\n",
       "      <td>563</td>\n",
       "      <td>5947</td>\n",
       "      <td>3140</td>\n",
       "      <td>33</td>\n",
       "      <td>23</td>\n",
       "      <td>1929</td>\n",
       "      <td>1</td>\n",
       "    </tr>\n",
       "    <tr>\n",
       "      <th>1</th>\n",
       "      <td>Team 2</td>\n",
       "      <td>86</td>\n",
       "      <td>4262</td>\n",
       "      <td>2762</td>\n",
       "      <td>1581</td>\n",
       "      <td>573</td>\n",
       "      <td>608</td>\n",
       "      <td>5900</td>\n",
       "      <td>3114</td>\n",
       "      <td>25</td>\n",
       "      <td>25</td>\n",
       "      <td>1929</td>\n",
       "      <td>1</td>\n",
       "    </tr>\n",
       "    <tr>\n",
       "      <th>2</th>\n",
       "      <td>Team 3</td>\n",
       "      <td>80</td>\n",
       "      <td>3442</td>\n",
       "      <td>2614</td>\n",
       "      <td>1241</td>\n",
       "      <td>598</td>\n",
       "      <td>775</td>\n",
       "      <td>4534</td>\n",
       "      <td>3309</td>\n",
       "      <td>10</td>\n",
       "      <td>8</td>\n",
       "      <td>1929</td>\n",
       "      <td>1</td>\n",
       "    </tr>\n",
       "    <tr>\n",
       "      <th>3</th>\n",
       "      <td>Team 4</td>\n",
       "      <td>82</td>\n",
       "      <td>3386</td>\n",
       "      <td>2664</td>\n",
       "      <td>1187</td>\n",
       "      <td>616</td>\n",
       "      <td>861</td>\n",
       "      <td>4398</td>\n",
       "      <td>3469</td>\n",
       "      <td>6</td>\n",
       "      <td>6</td>\n",
       "      <td>1931-32</td>\n",
       "      <td>1</td>\n",
       "    </tr>\n",
       "    <tr>\n",
       "      <th>4</th>\n",
       "      <td>Team 5</td>\n",
       "      <td>86</td>\n",
       "      <td>3368</td>\n",
       "      <td>2762</td>\n",
       "      <td>1209</td>\n",
       "      <td>633</td>\n",
       "      <td>920</td>\n",
       "      <td>4631</td>\n",
       "      <td>3700</td>\n",
       "      <td>8</td>\n",
       "      <td>7</td>\n",
       "      <td>1929</td>\n",
       "      <td>1</td>\n",
       "    </tr>\n",
       "    <tr>\n",
       "      <th>5</th>\n",
       "      <td>Team 6</td>\n",
       "      <td>73</td>\n",
       "      <td>2819</td>\n",
       "      <td>2408</td>\n",
       "      <td>990</td>\n",
       "      <td>531</td>\n",
       "      <td>887</td>\n",
       "      <td>3680</td>\n",
       "      <td>3373</td>\n",
       "      <td>1</td>\n",
       "      <td>4</td>\n",
       "      <td>1934-35</td>\n",
       "      <td>1</td>\n",
       "    </tr>\n",
       "    <tr>\n",
       "      <th>6</th>\n",
       "      <td>Team 7</td>\n",
       "      <td>82</td>\n",
       "      <td>2792</td>\n",
       "      <td>2626</td>\n",
       "      <td>948</td>\n",
       "      <td>608</td>\n",
       "      <td>1070</td>\n",
       "      <td>3609</td>\n",
       "      <td>3889</td>\n",
       "      <td>0</td>\n",
       "      <td>0</td>\n",
       "      <td>1929</td>\n",
       "      <td>3</td>\n",
       "    </tr>\n",
       "    <tr>\n",
       "      <th>7</th>\n",
       "      <td>Team 8</td>\n",
       "      <td>70</td>\n",
       "      <td>2573</td>\n",
       "      <td>2302</td>\n",
       "      <td>864</td>\n",
       "      <td>577</td>\n",
       "      <td>861</td>\n",
       "      <td>3228</td>\n",
       "      <td>3230</td>\n",
       "      <td>2</td>\n",
       "      <td>3</td>\n",
       "      <td>1929</td>\n",
       "      <td>1</td>\n",
       "    </tr>\n",
       "    <tr>\n",
       "      <th>8</th>\n",
       "      <td>Team 9</td>\n",
       "      <td>58</td>\n",
       "      <td>2109</td>\n",
       "      <td>1986</td>\n",
       "      <td>698</td>\n",
       "      <td>522</td>\n",
       "      <td>766</td>\n",
       "      <td>2683</td>\n",
       "      <td>2847</td>\n",
       "      <td>0</td>\n",
       "      <td>1</td>\n",
       "      <td>1939-40</td>\n",
       "      <td>2</td>\n",
       "    </tr>\n",
       "    <tr>\n",
       "      <th>9</th>\n",
       "      <td>Team 10</td>\n",
       "      <td>51</td>\n",
       "      <td>1884</td>\n",
       "      <td>1728</td>\n",
       "      <td>606</td>\n",
       "      <td>440</td>\n",
       "      <td>682</td>\n",
       "      <td>2159</td>\n",
       "      <td>2492</td>\n",
       "      <td>1</td>\n",
       "      <td>0</td>\n",
       "      <td>1932-33</td>\n",
       "      <td>1</td>\n",
       "    </tr>\n",
       "  </tbody>\n",
       "</table>\n",
       "</div>"
      ],
      "text/plain": [
       "      Team  Tournament Score PlayedGames WonGames DrawnGames LostGames  \\\n",
       "0   Team 1          86  4385        2762     1647        552       563   \n",
       "1   Team 2          86  4262        2762     1581        573       608   \n",
       "2   Team 3          80  3442        2614     1241        598       775   \n",
       "3   Team 4          82  3386        2664     1187        616       861   \n",
       "4   Team 5          86  3368        2762     1209        633       920   \n",
       "5   Team 6          73  2819        2408      990        531       887   \n",
       "6   Team 7          82  2792        2626      948        608      1070   \n",
       "7   Team 8          70  2573        2302      864        577       861   \n",
       "8   Team 9          58  2109        1986      698        522       766   \n",
       "9  Team 10          51  1884        1728      606        440       682   \n",
       "\n",
       "  BasketScored BasketGiven TournamentChampion Runner-up TeamLaunch  \\\n",
       "0         5947        3140                 33        23       1929   \n",
       "1         5900        3114                 25        25       1929   \n",
       "2         4534        3309                 10         8       1929   \n",
       "3         4398        3469                  6         6    1931-32   \n",
       "4         4631        3700                  8         7       1929   \n",
       "5         3680        3373                  1         4    1934-35   \n",
       "6         3609        3889                  0         0       1929   \n",
       "7         3228        3230                  2         3       1929   \n",
       "8         2683        2847                  0         1    1939-40   \n",
       "9         2159        2492                  1         0    1932-33   \n",
       "\n",
       "   HighestPositionHeld  \n",
       "0                    1  \n",
       "1                    1  \n",
       "2                    1  \n",
       "3                    1  \n",
       "4                    1  \n",
       "5                    1  \n",
       "6                    3  \n",
       "7                    1  \n",
       "8                    2  \n",
       "9                    1  "
      ]
     },
     "execution_count": 269,
     "metadata": {},
     "output_type": "execute_result"
    }
   ],
   "source": [
    "#counting the missing values\n",
    "\n",
    "missing_value_count = bb.isnull().sum()\n",
    "print(missing_value_count[0:13])\n",
    "\n",
    "bb= bb.replace('-',0)\n",
    "#In 'TeamLaunch' column there are characters like 'to', '-', '~'.  so cleaning data by removing these.\n",
    "\n",
    "bb = bb.replace(to_replace ='to', value = '-', regex = True) \n",
    "bb = bb.replace(to_replace ='_', value = '-', regex = True) \n",
    "bb = bb.replace(to_replace ='~', value = '-', regex = True)\n",
    "\n",
    "bb.head(10)"
   ]
  },
  {
   "cell_type": "code",
   "execution_count": 270,
   "metadata": {},
   "outputs": [],
   "source": [
    "#Change the object datatype into int\n",
    "#All the columns except \"Team\" can be changed to int column\n",
    "bb_new = bb.copy()\n",
    "# Storing only the starting year of team laucnh, i.e. keeping only the first four characters from column \n",
    "bb_new['TeamLaunch'] = bb['TeamLaunch'].str[:4]\n",
    "# Changing the data type of 'TeamLauch' as integer\n",
    "bb_new['TeamLaunch'] = bb_new['TeamLaunch'].astype(int)"
   ]
  },
  {
   "cell_type": "markdown",
   "metadata": {},
   "source": [
    "**EXPLORATORY DATA ANALYSIS**"
   ]
  },
  {
   "cell_type": "code",
   "execution_count": 271,
   "metadata": {},
   "outputs": [],
   "source": [
    "# Formatting the teamlauch column so it can be processed as int \n",
    "bb_new.head(10)\n",
    "\n",
    "# Changing the data type of all the columns except 'Team'column of dataframe as int\n",
    "bb_new = bb_new.loc[:,bb_new.columns !='Team'] \n",
    "\n",
    "bb_new = bb_new.astype(int)"
   ]
  },
  {
   "cell_type": "code",
   "execution_count": 272,
   "metadata": {},
   "outputs": [
    {
     "data": {
      "text/html": [
       "<div>\n",
       "<style scoped>\n",
       "    .dataframe tbody tr th:only-of-type {\n",
       "        vertical-align: middle;\n",
       "    }\n",
       "\n",
       "    .dataframe tbody tr th {\n",
       "        vertical-align: top;\n",
       "    }\n",
       "\n",
       "    .dataframe thead th {\n",
       "        text-align: right;\n",
       "    }\n",
       "</style>\n",
       "<table border=\"1\" class=\"dataframe\">\n",
       "  <thead>\n",
       "    <tr style=\"text-align: right;\">\n",
       "      <th></th>\n",
       "      <th>Team</th>\n",
       "      <th>Tournament</th>\n",
       "      <th>Score</th>\n",
       "      <th>PlayedGames</th>\n",
       "      <th>WonGames</th>\n",
       "      <th>DrawnGames</th>\n",
       "      <th>LostGames</th>\n",
       "      <th>BasketScored</th>\n",
       "      <th>BasketGiven</th>\n",
       "      <th>TournamentChampion</th>\n",
       "      <th>Runner-up</th>\n",
       "      <th>TeamLaunch</th>\n",
       "      <th>HighestPositionHeld</th>\n",
       "    </tr>\n",
       "  </thead>\n",
       "  <tbody>\n",
       "    <tr>\n",
       "      <th>0</th>\n",
       "      <td>Team 1</td>\n",
       "      <td>86</td>\n",
       "      <td>4385</td>\n",
       "      <td>2762</td>\n",
       "      <td>1647</td>\n",
       "      <td>552</td>\n",
       "      <td>563</td>\n",
       "      <td>5947</td>\n",
       "      <td>3140</td>\n",
       "      <td>33</td>\n",
       "      <td>23</td>\n",
       "      <td>1929</td>\n",
       "      <td>1</td>\n",
       "    </tr>\n",
       "    <tr>\n",
       "      <th>1</th>\n",
       "      <td>Team 2</td>\n",
       "      <td>86</td>\n",
       "      <td>4262</td>\n",
       "      <td>2762</td>\n",
       "      <td>1581</td>\n",
       "      <td>573</td>\n",
       "      <td>608</td>\n",
       "      <td>5900</td>\n",
       "      <td>3114</td>\n",
       "      <td>25</td>\n",
       "      <td>25</td>\n",
       "      <td>1929</td>\n",
       "      <td>1</td>\n",
       "    </tr>\n",
       "    <tr>\n",
       "      <th>2</th>\n",
       "      <td>Team 3</td>\n",
       "      <td>80</td>\n",
       "      <td>3442</td>\n",
       "      <td>2614</td>\n",
       "      <td>1241</td>\n",
       "      <td>598</td>\n",
       "      <td>775</td>\n",
       "      <td>4534</td>\n",
       "      <td>3309</td>\n",
       "      <td>10</td>\n",
       "      <td>8</td>\n",
       "      <td>1929</td>\n",
       "      <td>1</td>\n",
       "    </tr>\n",
       "    <tr>\n",
       "      <th>3</th>\n",
       "      <td>Team 4</td>\n",
       "      <td>82</td>\n",
       "      <td>3386</td>\n",
       "      <td>2664</td>\n",
       "      <td>1187</td>\n",
       "      <td>616</td>\n",
       "      <td>861</td>\n",
       "      <td>4398</td>\n",
       "      <td>3469</td>\n",
       "      <td>6</td>\n",
       "      <td>6</td>\n",
       "      <td>1931</td>\n",
       "      <td>1</td>\n",
       "    </tr>\n",
       "    <tr>\n",
       "      <th>4</th>\n",
       "      <td>Team 5</td>\n",
       "      <td>86</td>\n",
       "      <td>3368</td>\n",
       "      <td>2762</td>\n",
       "      <td>1209</td>\n",
       "      <td>633</td>\n",
       "      <td>920</td>\n",
       "      <td>4631</td>\n",
       "      <td>3700</td>\n",
       "      <td>8</td>\n",
       "      <td>7</td>\n",
       "      <td>1929</td>\n",
       "      <td>1</td>\n",
       "    </tr>\n",
       "  </tbody>\n",
       "</table>\n",
       "</div>"
      ],
      "text/plain": [
       "     Team  Tournament  Score  PlayedGames  WonGames  DrawnGames  LostGames  \\\n",
       "0  Team 1          86   4385         2762      1647         552        563   \n",
       "1  Team 2          86   4262         2762      1581         573        608   \n",
       "2  Team 3          80   3442         2614      1241         598        775   \n",
       "3  Team 4          82   3386         2664      1187         616        861   \n",
       "4  Team 5          86   3368         2762      1209         633        920   \n",
       "\n",
       "   BasketScored  BasketGiven  TournamentChampion  Runner-up  TeamLaunch  \\\n",
       "0          5947         3140                  33         23        1929   \n",
       "1          5900         3114                  25         25        1929   \n",
       "2          4534         3309                  10          8        1929   \n",
       "3          4398         3469                   6          6        1931   \n",
       "4          4631         3700                   8          7        1929   \n",
       "\n",
       "   HighestPositionHeld  \n",
       "0                    1  \n",
       "1                    1  \n",
       "2                    1  \n",
       "3                    1  \n",
       "4                    1  "
      ]
     },
     "execution_count": 272,
     "metadata": {},
     "output_type": "execute_result"
    }
   ],
   "source": [
    "# Appending the 'Team' column which is of data type 'string' and dropped while doing type conversion with the converted dataframe\n",
    "bb_new['Team']=(bb['Team'])\n",
    "first_column =bb_new.pop('Team')\n",
    "bb_new.insert(0, 'Team', first_column) # Insert 'Team' as the first column\n",
    "bb_new.head()"
   ]
  },
  {
   "cell_type": "code",
   "execution_count": 273,
   "metadata": {},
   "outputs": [
    {
     "data": {
      "text/plain": [
       "Team\n",
       "Team 1    86\n",
       "Team 2    86\n",
       "Team 5    86\n",
       "Team 7    82\n",
       "Team 4    82\n",
       "Name: Tournament, dtype: int32"
      ]
     },
     "execution_count": 273,
     "metadata": {},
     "output_type": "execute_result"
    }
   ],
   "source": [
    "# Lets get the team who played maximum number of Tournament\n",
    "bb_new.groupby(['Team'])['Tournament'].sum().sort_values(ascending=False).head(5)"
   ]
  },
  {
   "cell_type": "code",
   "execution_count": 274,
   "metadata": {},
   "outputs": [
    {
     "data": {
      "text/plain": [
       "Team\n",
       "Team 56    1\n",
       "Team 59    1\n",
       "Team 58    1\n",
       "Team 61    1\n",
       "Team 57    1\n",
       "Name: Tournament, dtype: int32"
      ]
     },
     "execution_count": 274,
     "metadata": {},
     "output_type": "execute_result"
    }
   ],
   "source": [
    "# Get the teams who played minimum number of Tournament\n",
    "bb_new.groupby(['Team'])['Tournament'].sum().sort_values(ascending=True).head(5)"
   ]
  },
  {
   "cell_type": "code",
   "execution_count": 275,
   "metadata": {},
   "outputs": [
    {
     "name": "stdout",
     "output_type": "stream",
     "text": [
      "The top 5 teams, which won the maximum games are\n"
     ]
    },
    {
     "data": {
      "text/plain": [
       "Team\n",
       "Team 1    0.596307\n",
       "Team 2    0.572411\n",
       "Team 3    0.474751\n",
       "Team 4    0.445571\n",
       "Team 5    0.437726\n",
       "Name: WinResult, dtype: float64"
      ]
     },
     "execution_count": 275,
     "metadata": {},
     "output_type": "execute_result"
    }
   ],
   "source": [
    "# Calculate the WINNIING % of the team from PlayedGames\tand WonGames and adding extra column to the dataframe\n",
    "bb_new['WinResult'] = bb_new['WonGames']/bb_new['PlayedGames']\n",
    "bb_new['WinResult'].dtype\n",
    "TopWin = bb_new['WinResult'].sort_values(ascending =False).head(10)\n",
    "print('The top 5 teams, which won the maximum games are')\n",
    "bb_new.groupby(['Team'])['WinResult'].sum().sort_values(ascending =False).head(5)"
   ]
  },
  {
   "cell_type": "code",
   "execution_count": 276,
   "metadata": {},
   "outputs": [
    {
     "name": "stdout",
     "output_type": "stream",
     "text": [
      "The top 5 teams which became Champions are:\n"
     ]
    },
    {
     "data": {
      "text/plain": [
       "Team\n",
       "Team 1    0.383721\n",
       "Team 2    0.290698\n",
       "Team 3    0.125000\n",
       "Team 5    0.093023\n",
       "Team 4    0.073171\n",
       "Name: Champions, dtype: float64"
      ]
     },
     "execution_count": 276,
     "metadata": {},
     "output_type": "execute_result"
    }
   ],
   "source": [
    "# Calculate the percentage of getting championship against tounament played\n",
    "bb_new['Champions'] = bb_new['TournamentChampion']/bb_new['Tournament']\n",
    "bb_new['Champions'].dtype\n",
    "TopChampions = bb_new['Champions'].sort_values(ascending =False).head(10)\n",
    "print('The top 5 teams which became Champions are:')\n",
    "bb_new.groupby(['Team'])['Champions'].sum().sort_values(ascending =False).head(5)"
   ]
  },
  {
   "cell_type": "code",
   "execution_count": 277,
   "metadata": {},
   "outputs": [
    {
     "name": "stdout",
     "output_type": "stream",
     "text": [
      "The oldest team in the tournament is of age:  91\n",
      "The oldest team in the tournament are: \n",
      "       Team  Tournament  Score  PlayedGames  WonGames  DrawnGames  LostGames  \\\n",
      "0    Team 1          86   4385         2762      1647         552        563   \n",
      "1    Team 2          86   4262         2762      1581         573        608   \n",
      "2    Team 3          80   3442         2614      1241         598        775   \n",
      "4    Team 5          86   3368         2762      1209         633        920   \n",
      "6    Team 7          82   2792         2626       948         608       1070   \n",
      "7    Team 8          70   2573         2302       864         577        861   \n",
      "13  Team 14          44   1416         1428       453         336        639   \n",
      "44  Team 45           7    107          130        43          21         66   \n",
      "51  Team 52           4     56           72        21          14         37   \n",
      "53  Team 54           3     42           54        18           6         30   \n",
      "\n",
      "    BasketScored  BasketGiven  TournamentChampion  Runner-up  TeamLaunch  \\\n",
      "0           5947         3140                  33         23        1929   \n",
      "1           5900         3114                  25         25        1929   \n",
      "2           4534         3309                  10          8        1929   \n",
      "4           4631         3700                   8          7        1929   \n",
      "6           3609         3889                   0          0        1929   \n",
      "7           3228         3230                   2          3        1929   \n",
      "13          1843         2368                   0          1        1929   \n",
      "44           227          308                   0          0        1929   \n",
      "51           153          184                   0          0        1929   \n",
      "53            97          131                   0          0        1929   \n",
      "\n",
      "    HighestPositionHeld  WinResult  Champions  TeamAge  \n",
      "0                     1   0.596307   0.383721       91  \n",
      "1                     1   0.572411   0.290698       91  \n",
      "2                     1   0.474751   0.125000       91  \n",
      "4                     1   0.437726   0.093023       91  \n",
      "6                     3   0.361005   0.000000       91  \n",
      "7                     1   0.375326   0.028571       91  \n",
      "13                    2   0.317227   0.000000       91  \n",
      "44                    3   0.330769   0.000000       91  \n",
      "51                    6   0.291667   0.000000       91  \n",
      "53                    8   0.333333   0.000000       91  \n"
     ]
    }
   ],
   "source": [
    "# Calculate the total period, the team is playing the tournament assuming the teams included upto 2020\n",
    "bb_new['TeamAge'] = 2020-bb_new['TeamLaunch']\n",
    "print('The oldest team in the tournament is of age: ',bb_new['TeamAge'].max())\n",
    "print('The oldest team in the tournament are: ')\n",
    "print(bb_new[bb_new['TeamAge'] == bb_new['TeamAge'].max()]) "
   ]
  },
  {
   "cell_type": "code",
   "execution_count": 278,
   "metadata": {},
   "outputs": [
    {
     "name": "stdout",
     "output_type": "stream",
     "text": [
      "The newest team in the tournament is of age:  3\n",
      "The newest team in the tournament are: \n",
      "       Team  Tournament  Score  PlayedGames  WonGames  DrawnGames  LostGames  \\\n",
      "60  Team 61           1      0            0         0           0          0   \n",
      "\n",
      "    BasketScored  BasketGiven  TournamentChampion  Runner-up  TeamLaunch  \\\n",
      "60             0            0                   0          0        2017   \n",
      "\n",
      "    HighestPositionHeld  WinResult  Champions  TeamAge  \n",
      "60                    9        NaN        0.0        3  \n"
     ]
    }
   ],
   "source": [
    "print('The newest team in the tournament is of age: ',bb_new['TeamAge'].min())\n",
    "print('The newest team in the tournament are: ')\n",
    "print(bb_new[bb_new['TeamAge'] == bb_new['TeamAge'].min()])"
   ]
  },
  {
   "cell_type": "code",
   "execution_count": 279,
   "metadata": {},
   "outputs": [
    {
     "name": "stdout",
     "output_type": "stream",
     "text": [
      "The top 5 teams with maximum experience of Tournament are:\n"
     ]
    },
    {
     "data": {
      "text/plain": [
       "Team\n",
       "Team 59    69.000000\n",
       "Team 60    65.000000\n",
       "Team 58    64.000000\n",
       "Team 55    35.000000\n",
       "Team 54    30.333333\n",
       "Name: TeamExperience, dtype: float64"
      ]
     },
     "execution_count": 279,
     "metadata": {},
     "output_type": "execute_result"
    }
   ],
   "source": [
    "# Getting the teams those who played maximum number of Tournament against the age of the team\n",
    "bb_new['TeamExperience'] = bb_new['TeamAge']/bb_new['Tournament']\n",
    "bb_new['TeamExperience'].dtype\n",
    "print('The top 5 teams with maximum experience of Tournament are:')\n",
    "bb_new.groupby(['Team'])['TeamExperience'].sum().sort_values(ascending =False).head(5)"
   ]
  },
  {
   "cell_type": "code",
   "execution_count": 280,
   "metadata": {},
   "outputs": [
    {
     "name": "stdout",
     "output_type": "stream",
     "text": [
      "The 5 teams with minimum experience of Tournament are:\n"
     ]
    },
    {
     "data": {
      "text/plain": [
       "Team\n",
       "Team 1    1.058140\n",
       "Team 5    1.058140\n",
       "Team 2    1.058140\n",
       "Team 4    1.085366\n",
       "Team 7    1.109756\n",
       "Name: TeamExperience, dtype: float64"
      ]
     },
     "execution_count": 280,
     "metadata": {},
     "output_type": "execute_result"
    }
   ],
   "source": [
    "print('The 5 teams with minimum experience of Tournament are:')\n",
    "bb_new.groupby(['Team'])['TeamExperience'].sum().sort_values(ascending =True).head(5)"
   ]
  },
  {
   "cell_type": "code",
   "execution_count": 281,
   "metadata": {},
   "outputs": [
    {
     "name": "stdout",
     "output_type": "stream",
     "text": [
      "The top 5 teams with the percentage of getting championship against experience are:\n"
     ]
    },
    {
     "data": {
      "text/plain": [
       "Team\n",
       "Team 1    0.362637\n",
       "Team 2    0.274725\n",
       "Team 3    0.109890\n",
       "Team 5    0.087912\n",
       "Team 4    0.067416\n",
       "Name: TeamPerformance, dtype: float64"
      ]
     },
     "execution_count": 281,
     "metadata": {},
     "output_type": "execute_result"
    }
   ],
   "source": [
    "# Calculate the percentage of getting championship against experience\n",
    "bb_new['TeamPerformance'] = bb_new['Champions']/bb_new['TeamExperience']\n",
    "bb_new['TeamPerformance'].dtype\n",
    "print('The top 5 teams with the percentage of getting championship against experience are:')\n",
    "bb_new.groupby(['Team'])['TeamPerformance'].sum().sort_values(ascending =False).head(5)"
   ]
  },
  {
   "cell_type": "code",
   "execution_count": 282,
   "metadata": {},
   "outputs": [
    {
     "data": {
      "text/html": [
       "<div>\n",
       "<style scoped>\n",
       "    .dataframe tbody tr th:only-of-type {\n",
       "        vertical-align: middle;\n",
       "    }\n",
       "\n",
       "    .dataframe tbody tr th {\n",
       "        vertical-align: top;\n",
       "    }\n",
       "\n",
       "    .dataframe thead th {\n",
       "        text-align: right;\n",
       "    }\n",
       "</style>\n",
       "<table border=\"1\" class=\"dataframe\">\n",
       "  <thead>\n",
       "    <tr style=\"text-align: right;\">\n",
       "      <th></th>\n",
       "      <th>Team</th>\n",
       "      <th>TeamAge</th>\n",
       "      <th>TeamExperience</th>\n",
       "      <th>TeamPerformance</th>\n",
       "      <th>WinResult</th>\n",
       "      <th>Champions</th>\n",
       "    </tr>\n",
       "  </thead>\n",
       "  <tbody>\n",
       "    <tr>\n",
       "      <th>0</th>\n",
       "      <td>Team 1</td>\n",
       "      <td>91</td>\n",
       "      <td>1.058140</td>\n",
       "      <td>0.362637</td>\n",
       "      <td>0.596307</td>\n",
       "      <td>0.383721</td>\n",
       "    </tr>\n",
       "    <tr>\n",
       "      <th>1</th>\n",
       "      <td>Team 2</td>\n",
       "      <td>91</td>\n",
       "      <td>1.058140</td>\n",
       "      <td>0.274725</td>\n",
       "      <td>0.572411</td>\n",
       "      <td>0.290698</td>\n",
       "    </tr>\n",
       "    <tr>\n",
       "      <th>2</th>\n",
       "      <td>Team 3</td>\n",
       "      <td>91</td>\n",
       "      <td>1.137500</td>\n",
       "      <td>0.109890</td>\n",
       "      <td>0.474751</td>\n",
       "      <td>0.125000</td>\n",
       "    </tr>\n",
       "    <tr>\n",
       "      <th>3</th>\n",
       "      <td>Team 4</td>\n",
       "      <td>89</td>\n",
       "      <td>1.085366</td>\n",
       "      <td>0.067416</td>\n",
       "      <td>0.445571</td>\n",
       "      <td>0.073171</td>\n",
       "    </tr>\n",
       "    <tr>\n",
       "      <th>4</th>\n",
       "      <td>Team 5</td>\n",
       "      <td>91</td>\n",
       "      <td>1.058140</td>\n",
       "      <td>0.087912</td>\n",
       "      <td>0.437726</td>\n",
       "      <td>0.093023</td>\n",
       "    </tr>\n",
       "    <tr>\n",
       "      <th>...</th>\n",
       "      <td>...</td>\n",
       "      <td>...</td>\n",
       "      <td>...</td>\n",
       "      <td>...</td>\n",
       "      <td>...</td>\n",
       "      <td>...</td>\n",
       "    </tr>\n",
       "    <tr>\n",
       "      <th>56</th>\n",
       "      <td>Team 57</td>\n",
       "      <td>11</td>\n",
       "      <td>11.000000</td>\n",
       "      <td>0.000000</td>\n",
       "      <td>0.210526</td>\n",
       "      <td>0.000000</td>\n",
       "    </tr>\n",
       "    <tr>\n",
       "      <th>57</th>\n",
       "      <td>Team 58</td>\n",
       "      <td>64</td>\n",
       "      <td>64.000000</td>\n",
       "      <td>0.000000</td>\n",
       "      <td>0.233333</td>\n",
       "      <td>0.000000</td>\n",
       "    </tr>\n",
       "    <tr>\n",
       "      <th>58</th>\n",
       "      <td>Team 59</td>\n",
       "      <td>69</td>\n",
       "      <td>69.000000</td>\n",
       "      <td>0.000000</td>\n",
       "      <td>0.233333</td>\n",
       "      <td>0.000000</td>\n",
       "    </tr>\n",
       "    <tr>\n",
       "      <th>59</th>\n",
       "      <td>Team 60</td>\n",
       "      <td>65</td>\n",
       "      <td>65.000000</td>\n",
       "      <td>0.000000</td>\n",
       "      <td>0.166667</td>\n",
       "      <td>0.000000</td>\n",
       "    </tr>\n",
       "    <tr>\n",
       "      <th>60</th>\n",
       "      <td>Team 61</td>\n",
       "      <td>3</td>\n",
       "      <td>3.000000</td>\n",
       "      <td>0.000000</td>\n",
       "      <td>NaN</td>\n",
       "      <td>0.000000</td>\n",
       "    </tr>\n",
       "  </tbody>\n",
       "</table>\n",
       "<p>61 rows × 6 columns</p>\n",
       "</div>"
      ],
      "text/plain": [
       "       Team  TeamAge  TeamExperience  TeamPerformance  WinResult  Champions\n",
       "0    Team 1       91        1.058140         0.362637   0.596307   0.383721\n",
       "1    Team 2       91        1.058140         0.274725   0.572411   0.290698\n",
       "2    Team 3       91        1.137500         0.109890   0.474751   0.125000\n",
       "3    Team 4       89        1.085366         0.067416   0.445571   0.073171\n",
       "4    Team 5       91        1.058140         0.087912   0.437726   0.093023\n",
       "..      ...      ...             ...              ...        ...        ...\n",
       "56  Team 57       11       11.000000         0.000000   0.210526   0.000000\n",
       "57  Team 58       64       64.000000         0.000000   0.233333   0.000000\n",
       "58  Team 59       69       69.000000         0.000000   0.233333   0.000000\n",
       "59  Team 60       65       65.000000         0.000000   0.166667   0.000000\n",
       "60  Team 61        3        3.000000         0.000000        NaN   0.000000\n",
       "\n",
       "[61 rows x 6 columns]"
      ]
     },
     "execution_count": 282,
     "metadata": {},
     "output_type": "execute_result"
    }
   ],
   "source": [
    "# Lets Filter the dataframe to understand age of the team, WinResult, Champions,Team Experience and Team Performance\n",
    "df_1=bb_new.filter(items=['Team', 'TeamAge', 'TeamExperience','TeamPerformance','WinResult','Champions']) \n",
    "df_1"
   ]
  },
  {
   "cell_type": "markdown",
   "metadata": {},
   "source": [
    "lets explore data using graphs and charts"
   ]
  },
  {
   "cell_type": "code",
   "execution_count": 283,
   "metadata": {},
   "outputs": [
    {
     "data": {
      "text/plain": [
       "<Axes: xlabel='TeamAge', ylabel='TeamPerformance'>"
      ]
     },
     "execution_count": 283,
     "metadata": {},
     "output_type": "execute_result"
    },
    {
     "data": {
      "image/png": "[encoded data removed]",
      "text/plain": [
       "<Figure size 1200x800 with 1 Axes>"
      ]
     },
     "metadata": {},
     "output_type": "display_data"
    }
   ],
   "source": [
    "import seaborn as sns\n",
    "\n",
    "# Let's find the team with better performance\n",
    "plt.figure(figsize = (12,8))\n",
    "# Plot the teamAge against the Team Performance\n",
    "sns.barplot(x='TeamAge', y='TeamPerformance',data=df_1)"
   ]
  },
  {
   "cell_type": "markdown",
   "metadata": {},
   "source": [
    "**It is observed that Team of the age 91 has better performance.(Team 1, 2 and 3)**"
   ]
  },
  {
   "cell_type": "code",
   "execution_count": 284,
   "metadata": {},
   "outputs": [
    {
     "data": {
      "text/plain": [
       "<Axes: xlabel='TeamAge'>"
      ]
     },
     "execution_count": 284,
     "metadata": {},
     "output_type": "execute_result"
    },
    {
     "data": {
      "image/png": "[encoded data removed]",
      "text/plain": [
       "<Figure size 500x500 with 1 Axes>"
      ]
     },
     "metadata": {},
     "output_type": "display_data"
    }
   ],
   "source": [
    "# Let's find the team with better win results\n",
    "# Plot the top 10 teams which gave better win results \n",
    "df_2=bb_new.groupby(['TeamAge'])['WinResult'].sum().sort_values(ascending =False).head(10)                                                                                           \n",
    "plt.figure(figsize = (5,5))\n",
    "sns.barplot(y = df_2.values ,x = df_2.index)"
   ]
  },
  {
   "cell_type": "markdown",
   "metadata": {},
   "source": [
    " **It is observed that Team of age 91 and 79 has Won more games with respect to the total games played.**"
   ]
  },
  {
   "cell_type": "code",
   "execution_count": 285,
   "metadata": {},
   "outputs": [
    {
     "data": {
      "text/html": [
       "<div>\n",
       "<style scoped>\n",
       "    .dataframe tbody tr th:only-of-type {\n",
       "        vertical-align: middle;\n",
       "    }\n",
       "\n",
       "    .dataframe tbody tr th {\n",
       "        vertical-align: top;\n",
       "    }\n",
       "\n",
       "    .dataframe thead th {\n",
       "        text-align: right;\n",
       "    }\n",
       "</style>\n",
       "<table border=\"1\" class=\"dataframe\">\n",
       "  <thead>\n",
       "    <tr style=\"text-align: right;\">\n",
       "      <th></th>\n",
       "      <th>TeamAge</th>\n",
       "      <th>TeamExperience</th>\n",
       "      <th>TeamPerformance</th>\n",
       "      <th>WinResult</th>\n",
       "      <th>Champions</th>\n",
       "    </tr>\n",
       "  </thead>\n",
       "  <tbody>\n",
       "    <tr>\n",
       "      <th>TeamAge</th>\n",
       "      <td>1.000000</td>\n",
       "      <td>0.046113</td>\n",
       "      <td>0.285774</td>\n",
       "      <td>0.491259</td>\n",
       "      <td>0.292787</td>\n",
       "    </tr>\n",
       "    <tr>\n",
       "      <th>TeamExperience</th>\n",
       "      <td>0.046113</td>\n",
       "      <td>1.000000</td>\n",
       "      <td>-0.149389</td>\n",
       "      <td>-0.450864</td>\n",
       "      <td>-0.153466</td>\n",
       "    </tr>\n",
       "    <tr>\n",
       "      <th>TeamPerformance</th>\n",
       "      <td>0.285774</td>\n",
       "      <td>-0.149389</td>\n",
       "      <td>1.000000</td>\n",
       "      <td>0.766421</td>\n",
       "      <td>0.999545</td>\n",
       "    </tr>\n",
       "    <tr>\n",
       "      <th>WinResult</th>\n",
       "      <td>0.491259</td>\n",
       "      <td>-0.450864</td>\n",
       "      <td>0.766421</td>\n",
       "      <td>1.000000</td>\n",
       "      <td>0.772811</td>\n",
       "    </tr>\n",
       "    <tr>\n",
       "      <th>Champions</th>\n",
       "      <td>0.292787</td>\n",
       "      <td>-0.153466</td>\n",
       "      <td>0.999545</td>\n",
       "      <td>0.772811</td>\n",
       "      <td>1.000000</td>\n",
       "    </tr>\n",
       "  </tbody>\n",
       "</table>\n",
       "</div>"
      ],
      "text/plain": [
       "                  TeamAge  TeamExperience  TeamPerformance  WinResult  \\\n",
       "TeamAge          1.000000        0.046113         0.285774   0.491259   \n",
       "TeamExperience   0.046113        1.000000        -0.149389  -0.450864   \n",
       "TeamPerformance  0.285774       -0.149389         1.000000   0.766421   \n",
       "WinResult        0.491259       -0.450864         0.766421   1.000000   \n",
       "Champions        0.292787       -0.153466         0.999545   0.772811   \n",
       "\n",
       "                 Champions  \n",
       "TeamAge           0.292787  \n",
       "TeamExperience   -0.153466  \n",
       "TeamPerformance   0.999545  \n",
       "WinResult         0.772811  \n",
       "Champions         1.000000  "
      ]
     },
     "execution_count": 285,
     "metadata": {},
     "output_type": "execute_result"
    }
   ],
   "source": [
    "# #  Let's find the correlation matrix between all the performance metrics\n",
    "numeric_df = df_1.select_dtypes(include=['number'])\n",
    "corr=numeric_df.corr()\n",
    "corr"
   ]
  },
  {
   "cell_type": "code",
   "execution_count": 286,
   "metadata": {},
   "outputs": [
    {
     "data": {
      "text/plain": [
       "<Axes: >"
      ]
     },
     "execution_count": 286,
     "metadata": {},
     "output_type": "execute_result"
    },
    {
     "data": {
      "image/png": "[encoded data removed]",
      "text/plain": [
       "<Figure size 640x480 with 2 Axes>"
      ]
     },
     "metadata": {},
     "output_type": "display_data"
    }
   ],
   "source": [
    "sns.heatmap(corr, annot = True)"
   ]
  },
  {
   "cell_type": "markdown",
   "metadata": {},
   "source": [
    "**The Correlation table shows high correlation between Team Performance and Tournament Champions**."
   ]
  },
  {
   "cell_type": "code",
   "execution_count": 287,
   "metadata": {},
   "outputs": [
    {
     "data": {
      "text/plain": [
       "<Axes: xlabel='TeamAge'>"
      ]
     },
     "execution_count": 287,
     "metadata": {},
     "output_type": "execute_result"
    },
    {
     "data": {
      "image/png": "[encoded data removed]",
      "text/plain": [
       "<Figure size 1000x1000 with 1 Axes>"
      ]
     },
     "metadata": {},
     "output_type": "display_data"
    }
   ],
   "source": [
    "# Let's find the team which has got championship\n",
    "# Plot the top 10 teams which were champions\n",
    "df_3=bb_new.groupby(['TeamAge'])['Champions'].sum().sort_values(ascending =False).head(10)                                                                                           \n",
    "plt.figure(figsize = (10,10))\n",
    "sns.barplot(y = df_3.values ,x = df_3.index)"
   ]
  },
  {
   "cell_type": "code",
   "execution_count": 288,
   "metadata": {},
   "outputs": [
    {
     "data": {
      "text/plain": [
       "<Axes: xlabel='Champions', ylabel='HighestPositionHeld'>"
      ]
     },
     "execution_count": 288,
     "metadata": {},
     "output_type": "execute_result"
    },
    {
     "data": {
      "image/png": "[encoded data removed]",
      "text/plain": [
       "<Figure size 640x480 with 1 Axes>"
      ]
     },
     "metadata": {},
     "output_type": "display_data"
    }
   ],
   "source": [
    "# Lets compare New vs old team's performance with respect to age and Highest Position based on Championship \n",
    "sns.scatterplot(data=bb_new, x=\"Champions\", y=\"HighestPositionHeld\",size=\"TeamAge\")"
   ]
  },
  {
   "cell_type": "code",
   "execution_count": 289,
   "metadata": {},
   "outputs": [
    {
     "data": {
      "text/plain": [
       "<Axes: xlabel='WinResult', ylabel='HighestPositionHeld'>"
      ]
     },
     "execution_count": 289,
     "metadata": {},
     "output_type": "execute_result"
    },
    {
     "data": {
      "image/png": "[encoded data removed]",
      "text/plain": [
       "<Figure size 640x480 with 1 Axes>"
      ]
     },
     "metadata": {},
     "output_type": "display_data"
    }
   ],
   "source": [
    "# Lets compare New vs old team's performance with respect to age and Highest Position based on WinResult \n",
    "sns.scatterplot(data=bb_new, x=\"WinResult\", y=\"HighestPositionHeld\",size=\"TeamAge\")"
   ]
  },
  {
   "cell_type": "markdown",
   "metadata": {},
   "source": [
    "Team of age 15 (Young Team) held the Highest Position"
   ]
  },
  {
   "cell_type": "code",
   "execution_count": 290,
   "metadata": {},
   "outputs": [
    {
     "data": {
      "text/plain": [
       "<seaborn.axisgrid.FacetGrid at 0x2f358a2c940>"
      ]
     },
     "execution_count": 290,
     "metadata": {},
     "output_type": "execute_result"
    },
    {
     "data": {
      "image/png": "[encoded data removed]",
      "text/plain": [
       "<Figure size 608.875x500 with 1 Axes>"
      ]
     },
     "metadata": {},
     "output_type": "display_data"
    }
   ],
   "source": [
    "sns.lmplot(x=\"WinResult\", y=\"HighestPositionHeld\", hue = \"Team\", data=bb_new)"
   ]
  },
  {
   "cell_type": "markdown",
   "metadata": {},
   "source": [
    "Team 57 held the Highest Position"
   ]
  },
  {
   "cell_type": "markdown",
   "metadata": {},
   "source": [
    "**TOP 5 TEAMS FROM BELOW CONSOLIDATED TABLES A AND B CAN TREATED AS BEST PERFORMERS AND HENCE COMPANY CAN CHOOSE BETWEEN THESE TEAMS FOR SPONSORSHIP**"
   ]
  },
  {
   "cell_type": "code",
   "execution_count": 291,
   "metadata": {},
   "outputs": [
    {
     "name": "stdout",
     "output_type": "stream",
     "text": [
      "TOP OLD TEAMS TABLE A\n"
     ]
    },
    {
     "data": {
      "text/html": [
       "<div>\n",
       "<style scoped>\n",
       "    .dataframe tbody tr th:only-of-type {\n",
       "        vertical-align: middle;\n",
       "    }\n",
       "\n",
       "    .dataframe tbody tr th {\n",
       "        vertical-align: top;\n",
       "    }\n",
       "\n",
       "    .dataframe thead th {\n",
       "        text-align: right;\n",
       "    }\n",
       "</style>\n",
       "<table border=\"1\" class=\"dataframe\">\n",
       "  <thead>\n",
       "    <tr style=\"text-align: right;\">\n",
       "      <th></th>\n",
       "      <th>Team</th>\n",
       "      <th>TeamAge</th>\n",
       "      <th>TeamExperience</th>\n",
       "      <th>TeamPerformance</th>\n",
       "      <th>WinResult</th>\n",
       "      <th>Champions</th>\n",
       "    </tr>\n",
       "  </thead>\n",
       "  <tbody>\n",
       "    <tr>\n",
       "      <th>0</th>\n",
       "      <td>Team 1</td>\n",
       "      <td>91</td>\n",
       "      <td>1.05814</td>\n",
       "      <td>0.362637</td>\n",
       "      <td>0.596307</td>\n",
       "      <td>0.383721</td>\n",
       "    </tr>\n",
       "    <tr>\n",
       "      <th>51</th>\n",
       "      <td>Team 52</td>\n",
       "      <td>91</td>\n",
       "      <td>22.75000</td>\n",
       "      <td>0.000000</td>\n",
       "      <td>0.291667</td>\n",
       "      <td>0.000000</td>\n",
       "    </tr>\n",
       "    <tr>\n",
       "      <th>2</th>\n",
       "      <td>Team 3</td>\n",
       "      <td>91</td>\n",
       "      <td>1.13750</td>\n",
       "      <td>0.109890</td>\n",
       "      <td>0.474751</td>\n",
       "      <td>0.125000</td>\n",
       "    </tr>\n",
       "    <tr>\n",
       "      <th>4</th>\n",
       "      <td>Team 5</td>\n",
       "      <td>91</td>\n",
       "      <td>1.05814</td>\n",
       "      <td>0.087912</td>\n",
       "      <td>0.437726</td>\n",
       "      <td>0.093023</td>\n",
       "    </tr>\n",
       "    <tr>\n",
       "      <th>1</th>\n",
       "      <td>Team 2</td>\n",
       "      <td>91</td>\n",
       "      <td>1.05814</td>\n",
       "      <td>0.274725</td>\n",
       "      <td>0.572411</td>\n",
       "      <td>0.290698</td>\n",
       "    </tr>\n",
       "  </tbody>\n",
       "</table>\n",
       "</div>"
      ],
      "text/plain": [
       "       Team  TeamAge  TeamExperience  TeamPerformance  WinResult  Champions\n",
       "0    Team 1       91         1.05814         0.362637   0.596307   0.383721\n",
       "51  Team 52       91        22.75000         0.000000   0.291667   0.000000\n",
       "2    Team 3       91         1.13750         0.109890   0.474751   0.125000\n",
       "4    Team 5       91         1.05814         0.087912   0.437726   0.093023\n",
       "1    Team 2       91         1.05814         0.274725   0.572411   0.290698"
      ]
     },
     "execution_count": 291,
     "metadata": {},
     "output_type": "execute_result"
    }
   ],
   "source": [
    "df_4 = df_1.sort_values(by='WinResult',ascending=False) # Top performing teams\n",
    "print('TOP OLD TEAMS TABLE A')\n",
    "df_4.sort_values(by='TeamAge',ascending=False).head(5) # Top Performing old teams "
   ]
  },
  {
   "cell_type": "code",
   "execution_count": 292,
   "metadata": {},
   "outputs": [
    {
     "name": "stdout",
     "output_type": "stream",
     "text": [
      "TOP OLD TEAMS :TABLE B\n"
     ]
    },
    {
     "data": {
      "text/html": [
       "<div>\n",
       "<style scoped>\n",
       "    .dataframe tbody tr th:only-of-type {\n",
       "        vertical-align: middle;\n",
       "    }\n",
       "\n",
       "    .dataframe tbody tr th {\n",
       "        vertical-align: top;\n",
       "    }\n",
       "\n",
       "    .dataframe thead th {\n",
       "        text-align: right;\n",
       "    }\n",
       "</style>\n",
       "<table border=\"1\" class=\"dataframe\">\n",
       "  <thead>\n",
       "    <tr style=\"text-align: right;\">\n",
       "      <th></th>\n",
       "      <th>Team</th>\n",
       "      <th>TeamAge</th>\n",
       "      <th>TeamExperience</th>\n",
       "      <th>TeamPerformance</th>\n",
       "      <th>WinResult</th>\n",
       "      <th>Champions</th>\n",
       "    </tr>\n",
       "  </thead>\n",
       "  <tbody>\n",
       "    <tr>\n",
       "      <th>0</th>\n",
       "      <td>Team 1</td>\n",
       "      <td>91</td>\n",
       "      <td>1.058140</td>\n",
       "      <td>0.362637</td>\n",
       "      <td>0.596307</td>\n",
       "      <td>0.383721</td>\n",
       "    </tr>\n",
       "    <tr>\n",
       "      <th>4</th>\n",
       "      <td>Team 5</td>\n",
       "      <td>91</td>\n",
       "      <td>1.058140</td>\n",
       "      <td>0.087912</td>\n",
       "      <td>0.437726</td>\n",
       "      <td>0.093023</td>\n",
       "    </tr>\n",
       "    <tr>\n",
       "      <th>53</th>\n",
       "      <td>Team 54</td>\n",
       "      <td>91</td>\n",
       "      <td>30.333333</td>\n",
       "      <td>0.000000</td>\n",
       "      <td>0.333333</td>\n",
       "      <td>0.000000</td>\n",
       "    </tr>\n",
       "    <tr>\n",
       "      <th>51</th>\n",
       "      <td>Team 52</td>\n",
       "      <td>91</td>\n",
       "      <td>22.750000</td>\n",
       "      <td>0.000000</td>\n",
       "      <td>0.291667</td>\n",
       "      <td>0.000000</td>\n",
       "    </tr>\n",
       "    <tr>\n",
       "      <th>1</th>\n",
       "      <td>Team 2</td>\n",
       "      <td>91</td>\n",
       "      <td>1.058140</td>\n",
       "      <td>0.274725</td>\n",
       "      <td>0.572411</td>\n",
       "      <td>0.290698</td>\n",
       "    </tr>\n",
       "  </tbody>\n",
       "</table>\n",
       "</div>"
      ],
      "text/plain": [
       "       Team  TeamAge  TeamExperience  TeamPerformance  WinResult  Champions\n",
       "0    Team 1       91        1.058140         0.362637   0.596307   0.383721\n",
       "4    Team 5       91        1.058140         0.087912   0.437726   0.093023\n",
       "53  Team 54       91       30.333333         0.000000   0.333333   0.000000\n",
       "51  Team 52       91       22.750000         0.000000   0.291667   0.000000\n",
       "1    Team 2       91        1.058140         0.274725   0.572411   0.290698"
      ]
     },
     "execution_count": 292,
     "metadata": {},
     "output_type": "execute_result"
    }
   ],
   "source": [
    "df_5 = df_1.sort_values(by='TeamExperience',ascending=False) # Top performing teams\n",
    "print('TOP OLD TEAMS :TABLE B')\n",
    "df_5.sort_values(by='TeamAge',ascending=False).head(5) "
   ]
  },
  {
   "cell_type": "code",
   "execution_count": 293,
   "metadata": {},
   "outputs": [
    {
     "name": "stdout",
     "output_type": "stream",
     "text": [
      "Top Young Teams: TABLE A\n"
     ]
    },
    {
     "data": {
      "text/html": [
       "<div>\n",
       "<style scoped>\n",
       "    .dataframe tbody tr th:only-of-type {\n",
       "        vertical-align: middle;\n",
       "    }\n",
       "\n",
       "    .dataframe tbody tr th {\n",
       "        vertical-align: top;\n",
       "    }\n",
       "\n",
       "    .dataframe thead th {\n",
       "        text-align: right;\n",
       "    }\n",
       "</style>\n",
       "<table border=\"1\" class=\"dataframe\">\n",
       "  <thead>\n",
       "    <tr style=\"text-align: right;\">\n",
       "      <th></th>\n",
       "      <th>Team</th>\n",
       "      <th>TeamAge</th>\n",
       "      <th>TeamExperience</th>\n",
       "      <th>TeamPerformance</th>\n",
       "      <th>WinResult</th>\n",
       "      <th>Champions</th>\n",
       "    </tr>\n",
       "  </thead>\n",
       "  <tbody>\n",
       "    <tr>\n",
       "      <th>60</th>\n",
       "      <td>Team 61</td>\n",
       "      <td>3</td>\n",
       "      <td>3.000000</td>\n",
       "      <td>0.0</td>\n",
       "      <td>NaN</td>\n",
       "      <td>0.0</td>\n",
       "    </tr>\n",
       "    <tr>\n",
       "      <th>55</th>\n",
       "      <td>Team 56</td>\n",
       "      <td>4</td>\n",
       "      <td>4.000000</td>\n",
       "      <td>0.0</td>\n",
       "      <td>0.210526</td>\n",
       "      <td>0.0</td>\n",
       "    </tr>\n",
       "    <tr>\n",
       "      <th>43</th>\n",
       "      <td>Team 44</td>\n",
       "      <td>6</td>\n",
       "      <td>2.000000</td>\n",
       "      <td>0.0</td>\n",
       "      <td>0.307018</td>\n",
       "      <td>0.0</td>\n",
       "    </tr>\n",
       "    <tr>\n",
       "      <th>56</th>\n",
       "      <td>Team 57</td>\n",
       "      <td>11</td>\n",
       "      <td>11.000000</td>\n",
       "      <td>0.0</td>\n",
       "      <td>0.210526</td>\n",
       "      <td>0.0</td>\n",
       "    </tr>\n",
       "    <tr>\n",
       "      <th>36</th>\n",
       "      <td>Team 37</td>\n",
       "      <td>13</td>\n",
       "      <td>2.166667</td>\n",
       "      <td>0.0</td>\n",
       "      <td>0.271930</td>\n",
       "      <td>0.0</td>\n",
       "    </tr>\n",
       "  </tbody>\n",
       "</table>\n",
       "</div>"
      ],
      "text/plain": [
       "       Team  TeamAge  TeamExperience  TeamPerformance  WinResult  Champions\n",
       "60  Team 61        3        3.000000              0.0        NaN        0.0\n",
       "55  Team 56        4        4.000000              0.0   0.210526        0.0\n",
       "43  Team 44        6        2.000000              0.0   0.307018        0.0\n",
       "56  Team 57       11       11.000000              0.0   0.210526        0.0\n",
       "36  Team 37       13        2.166667              0.0   0.271930        0.0"
      ]
     },
     "execution_count": 293,
     "metadata": {},
     "output_type": "execute_result"
    }
   ],
   "source": [
    "# If Top Performing old teams above are already in contract with competitors \n",
    "# then below Young Teams Can be approach\n",
    "print('Top Young Teams: TABLE A')\n",
    "df_4.sort_values(by='TeamAge',ascending=True).head(5)"
   ]
  },
  {
   "cell_type": "code",
   "execution_count": 294,
   "metadata": {},
   "outputs": [
    {
     "name": "stdout",
     "output_type": "stream",
     "text": [
      "Top Young Teams: TABLE B\n"
     ]
    },
    {
     "data": {
      "text/html": [
       "<div>\n",
       "<style scoped>\n",
       "    .dataframe tbody tr th:only-of-type {\n",
       "        vertical-align: middle;\n",
       "    }\n",
       "\n",
       "    .dataframe tbody tr th {\n",
       "        vertical-align: top;\n",
       "    }\n",
       "\n",
       "    .dataframe thead th {\n",
       "        text-align: right;\n",
       "    }\n",
       "</style>\n",
       "<table border=\"1\" class=\"dataframe\">\n",
       "  <thead>\n",
       "    <tr style=\"text-align: right;\">\n",
       "      <th></th>\n",
       "      <th>Team</th>\n",
       "      <th>TeamAge</th>\n",
       "      <th>TeamExperience</th>\n",
       "      <th>TeamPerformance</th>\n",
       "      <th>WinResult</th>\n",
       "      <th>Champions</th>\n",
       "    </tr>\n",
       "  </thead>\n",
       "  <tbody>\n",
       "    <tr>\n",
       "      <th>60</th>\n",
       "      <td>Team 61</td>\n",
       "      <td>3</td>\n",
       "      <td>3.000000</td>\n",
       "      <td>0.0</td>\n",
       "      <td>NaN</td>\n",
       "      <td>0.0</td>\n",
       "    </tr>\n",
       "    <tr>\n",
       "      <th>55</th>\n",
       "      <td>Team 56</td>\n",
       "      <td>4</td>\n",
       "      <td>4.000000</td>\n",
       "      <td>0.0</td>\n",
       "      <td>0.210526</td>\n",
       "      <td>0.0</td>\n",
       "    </tr>\n",
       "    <tr>\n",
       "      <th>43</th>\n",
       "      <td>Team 44</td>\n",
       "      <td>6</td>\n",
       "      <td>2.000000</td>\n",
       "      <td>0.0</td>\n",
       "      <td>0.307018</td>\n",
       "      <td>0.0</td>\n",
       "    </tr>\n",
       "    <tr>\n",
       "      <th>56</th>\n",
       "      <td>Team 57</td>\n",
       "      <td>11</td>\n",
       "      <td>11.000000</td>\n",
       "      <td>0.0</td>\n",
       "      <td>0.210526</td>\n",
       "      <td>0.0</td>\n",
       "    </tr>\n",
       "    <tr>\n",
       "      <th>36</th>\n",
       "      <td>Team 37</td>\n",
       "      <td>13</td>\n",
       "      <td>2.166667</td>\n",
       "      <td>0.0</td>\n",
       "      <td>0.271930</td>\n",
       "      <td>0.0</td>\n",
       "    </tr>\n",
       "  </tbody>\n",
       "</table>\n",
       "</div>"
      ],
      "text/plain": [
       "       Team  TeamAge  TeamExperience  TeamPerformance  WinResult  Champions\n",
       "60  Team 61        3        3.000000              0.0        NaN        0.0\n",
       "55  Team 56        4        4.000000              0.0   0.210526        0.0\n",
       "43  Team 44        6        2.000000              0.0   0.307018        0.0\n",
       "56  Team 57       11       11.000000              0.0   0.210526        0.0\n",
       "36  Team 37       13        2.166667              0.0   0.271930        0.0"
      ]
     },
     "execution_count": 294,
     "metadata": {},
     "output_type": "execute_result"
    }
   ],
   "source": [
    "print('Top Young Teams: TABLE B')\n",
    "df_5.sort_values(by='TeamAge',ascending=True).head(5)"
   ]
  },
  {
   "cell_type": "markdown",
   "metadata": {},
   "source": [
    "3. Following are improvements or suggestions to the association management on quality, quantity, variety, velocity, veracity etc. on the data points collected by the association to perform a better data analysis in future.\n",
    "\n",
    "*  Teams which are already in contract with competitors\n",
    "*  The year for which the decision is to be made\n",
    "*   Top players of the team\n",
    "\n",
    "\n"
   ]
  },
  {
   "cell_type": "markdown",
   "metadata": {},
   "source": [
    "**-----------------------PART-2 COMPLETED----------------------------"
   ]
  },
  {
   "cell_type": "markdown",
   "metadata": {},
   "source": [
    "PART-3\n",
    "\n",
    "DOMAIN: Startup ecosystem\n",
    "• CONTEXT: Company X is a EU online publisher focusing on the startups industry. The company specifically reports on the business related to \n",
    "technology news, analysis of emerging trends and profiling of new tech businesses and products. Their event i.e. Startup Battlefield is the world’s \n",
    "pre-eminent startup competition. Startup Battlefield features 15-30 top early stage startups pitching top judges in front of a vast live audience, \n",
    "present in person and online.\n",
    "• DATA DESCRIPTION: CompanyX_EU.csv - Each row in the dataset is a Start-up company and the columns describe the company. \n",
    "• DATA DICTIONARY:\n",
    "1. Startup: Name of the company\n",
    "2. Product: Actual product\n",
    "3. Funding: Funds raised by the company in USD\n",
    "4. Event: The event the company participated in\n",
    "5. Result: Described by Contestant, Finalist, Audience choice, Winner or Runner up\n",
    "6. OperatingState: Current status of the company, Operating ,Closed, Acquired or IPO\n",
    "*Dataset has been downloaded from the internet. All the credit for the dataset goes to the original creator of the data.\n",
    "• PROJECT OBJECTIVE: Analyse the data of the various companies from the given dataset and perform the tasks that are specified in the below \n",
    "steps. Draw insights from the various attributes that are present in the dataset, plot distributions, state hypotheses and draw conclusions from \n",
    "the dataset.\n",
    "\n",
    "PROJECT OBJECTIVE: Analyse the data of the various companies from the given dataset and perform the tasks that are specified in the below \n",
    "steps. Draw insights from the various attributes that are present in the dataset, plot distributions, state hypotheses and draw conclusions from \n",
    "the dataset"
   ]
  },
  {
   "cell_type": "markdown",
   "metadata": {},
   "source": [
    "STEPS AND TASK [15 Marks]:\n",
    "1. Read the CSV file.\n",
    "2. Data Exploration: [1 Mark]\n",
    "A. Check the datatypes of each attribute.\n",
    "B. Check for null values in the attributes"
   ]
  },
  {
   "cell_type": "code",
   "execution_count": 295,
   "metadata": {},
   "outputs": [
    {
     "name": "stdout",
     "output_type": "stream",
     "text": [
      "           Startup             Product Funding             Event  \\\n",
      "0           2600Hz          2600hz.com     NaN   Disrupt SF 2013   \n",
      "1             3DLT            3dlt.com   $630K  Disrupt NYC 2013   \n",
      "2      3DPrinterOS     3dprinteros.com     NaN   Disrupt SF 2016   \n",
      "3       3Dprintler      3dprintler.com     $1M   Disrupt NY 2016   \n",
      "4  42 Technologies  42technologies.com     NaN  Disrupt NYC 2013   \n",
      "\n",
      "            Result OperatingState  \n",
      "0       Contestant      Operating  \n",
      "1       Contestant         Closed  \n",
      "2       Contestant      Operating  \n",
      "3  Audience choice      Operating  \n",
      "4       Contestant      Operating  \n"
     ]
    }
   ],
   "source": [
    "import numpy as np\n",
    "import pandas as pd\n",
    "\n",
    "# Loading the CSV file\n",
    "df = pd.read_csv('DS_Part3_CompanyX_EU.csv')\n",
    "\n",
    "# look at a quick view \n",
    "print(df.head(5))\n"
   ]
  },
  {
   "cell_type": "code",
   "execution_count": 296,
   "metadata": {},
   "outputs": [
    {
     "name": "stdout",
     "output_type": "stream",
     "text": [
      "Startup           object\n",
      "Product           object\n",
      "Funding           object\n",
      "Event             object\n",
      "Result            object\n",
      "OperatingState    object\n",
      "dtype: object\n"
     ]
    }
   ],
   "source": [
    "# Check the data types of each attribute\n",
    "print(df.dtypes)"
   ]
  },
  {
   "cell_type": "code",
   "execution_count": 297,
   "metadata": {},
   "outputs": [
    {
     "name": "stdout",
     "output_type": "stream",
     "text": [
      "Startup             0\n",
      "Product             6\n",
      "Funding           214\n",
      "Event               0\n",
      "Result              0\n",
      "OperatingState      0\n",
      "dtype: int64\n"
     ]
    }
   ],
   "source": [
    "# Check for null values in the attributes\n",
    "print(df.isnull().sum())"
   ]
  },
  {
   "cell_type": "markdown",
   "metadata": {},
   "source": [
    "3. Data preprocessing & visualisation: [4 Marks]\n",
    "A. Drop the null values. [1 Mark]\n",
    "B. Convert the ‘Funding’ features to a numerical value.\n",
    "(Execute below code)\n",
    "df1.loc[:,'Funds_in_million'] = df1['Funding'].apply(lambda x: float(x[1:-1])/1000 if x[-1] == 'K' else (float(x[1:-1])*1000 if x[-1] == 'B' else float(x[1:-1])))\n",
    "C. Plot box plot for funds in million. [1 Mark]\n",
    "D. Check the number of outliers greater than the upper fence. [1 Mark]\n",
    "E. Check frequency of the OperatingState features classes. [1 Mark]"
   ]
  },
  {
   "cell_type": "code",
   "execution_count": 298,
   "metadata": {},
   "outputs": [
    {
     "name": "stdout",
     "output_type": "stream",
     "text": [
      "Startup           0\n",
      "Product           0\n",
      "Funding           0\n",
      "Event             0\n",
      "Result            0\n",
      "OperatingState    0\n",
      "dtype: int64\n"
     ]
    }
   ],
   "source": [
    "# Drop the null values\n",
    "df = df.dropna()\n",
    "\n",
    "# Confirm that null values have been dropped\n",
    "print(df.isnull().sum())"
   ]
  },
  {
   "cell_type": "code",
   "execution_count": 299,
   "metadata": {},
   "outputs": [
    {
     "data": {
      "text/plain": [
       "<bound method NDFrame.head of           Startup          Product Funding                      Event  \\\n",
       "1            3DLT         3dlt.com   $630K           Disrupt NYC 2013   \n",
       "3      3Dprintler   3dprintler.com     $1M            Disrupt NY 2016   \n",
       "5            5to1         5to1.com  $19.3M                  TC50 2009   \n",
       "6    8 Securities  8securities.com    $29M       Disrupt Beijing 2011   \n",
       "10     AdhereTech   adheretech.com   $1.8M  Hardware Battlefield 2014   \n",
       "..            ...              ...     ...                        ...   \n",
       "657        Zivity       zivity.com     $8M                  TC40 2007   \n",
       "658        Zmorph     zmorph3d.com     $1M                          -   \n",
       "659        Zocdoc       zocdoc.com   $223M                  TC40 2007   \n",
       "660          Zula      zulaapp.com   $3.4M            Disrupt SF 2013   \n",
       "661        Zumper       zumper.com  $31.5M            Disrupt SF 2012   \n",
       "\n",
       "              Result OperatingState  \n",
       "1         Contestant         Closed  \n",
       "3    Audience choice      Operating  \n",
       "5         Contestant       Acquired  \n",
       "6           Finalist      Operating  \n",
       "10        Contestant      Operating  \n",
       "..               ...            ...  \n",
       "657       Contestant      Operating  \n",
       "658  Audience choice      Operating  \n",
       "659       Contestant      Operating  \n",
       "660  Audience choice      Operating  \n",
       "661         Finalist      Operating  \n",
       "\n",
       "[446 rows x 6 columns]>"
      ]
     },
     "execution_count": 299,
     "metadata": {},
     "output_type": "execute_result"
    }
   ],
   "source": [
    "df.head"
   ]
  },
  {
   "cell_type": "code",
   "execution_count": 300,
   "metadata": {},
   "outputs": [
    {
     "name": "stdout",
     "output_type": "stream",
     "text": [
      "1      0.6300\n",
      "3      1.0000\n",
      "5     19.3000\n",
      "6     29.0000\n",
      "10     1.8000\n",
      "11     1.0000\n",
      "13     1.0000\n",
      "14     0.7500\n",
      "15     0.0179\n",
      "16    11.6000\n",
      "Name: Funds_in_million, dtype: float64\n"
     ]
    }
   ],
   "source": [
    "\n",
    "df1= df.copy()\n",
    "\n",
    "# Add Funds_in_million column\n",
    "df1['Funds_in_million'] = df['Funding'].apply(lambda x: float(x[1:-1])/1000 if x[-1] == 'K' else (float(x[1:-1])*1000 if x[-1] == 'B' else float(x[1:-1])))\n",
    "\n",
    "\n",
    "# Confirm the conversion\n",
    "print(df1['Funds_in_million'].head(10))\n",
    "\n",
    "\n",
    "# # Remove '$' sign from funding values\n",
    "# df1['Funding'] = df1['Funding'].str.replace('$', '')\n",
    "\n",
    "# # Replace 'K' with '000' and 'M' with '000000'\n",
    "# df1['Funding'] = df1['Funding'].str.replace('K', '000').str.replace('M', '000000')\n",
    "\n",
    "# # Convert 'Funding' column to numeric\n",
    "# df1['Funding'] = pd.to_numeric(df1['Funding'], errors='coerce')"
   ]
  },
  {
   "cell_type": "code",
   "execution_count": 301,
   "metadata": {},
   "outputs": [
    {
     "data": {
      "image/png": "[encoded data removed]",
      "text/plain": [
       "<Figure size 800x600 with 1 Axes>"
      ]
     },
     "metadata": {},
     "output_type": "display_data"
    }
   ],
   "source": [
    "import matplotlib.pyplot as plt\n",
    "\n",
    "# Plot box plot for Funds_in_million\n",
    "plt.figure(figsize=(8, 6))\n",
    "plt.boxplot(df1['Funds_in_million'], vert=False)\n",
    "plt.xlabel('Funding Amount (in Million)')\n",
    "plt.title('Box Plot of Funding Amount')\n",
    "plt.show()"
   ]
  },
  {
   "cell_type": "code",
   "execution_count": 302,
   "metadata": {},
   "outputs": [
    {
     "name": "stdout",
     "output_type": "stream",
     "text": [
      "Number of outliers greater than the upper fence: 60\n"
     ]
    }
   ],
   "source": [
    "# Calculate the first quartile (Q1)\n",
    "Q1 = df1['Funds_in_million'].quantile(0.25)\n",
    "\n",
    "# Calculate the third quartile (Q3)\n",
    "Q3 = df1['Funds_in_million'].quantile(0.75)\n",
    "\n",
    "# Calculate the interquartile range (IQR)\n",
    "IQR = Q3 - Q1\n",
    "\n",
    "# Calculate the upper fence\n",
    "upper_fence = Q3 + 1.5 * IQR\n",
    "\n",
    "# Count the number of outliers greater than the upper fence\n",
    "outliers_count = len(df1[df1['Funds_in_million'] > upper_fence])\n",
    "\n",
    "# Display the number of outliers\n",
    "print(\"Number of outliers greater than the upper fence:\", outliers_count)\n"
   ]
  },
  {
   "cell_type": "code",
   "execution_count": 303,
   "metadata": {},
   "outputs": [
    {
     "name": "stdout",
     "output_type": "stream",
     "text": [
      "Frequency of OperatingState feature classes:\n",
      "OperatingState\n",
      "Operating    319\n",
      "Acquired      66\n",
      "Closed        57\n",
      "Ipo            4\n",
      "Name: count, dtype: int64\n"
     ]
    }
   ],
   "source": [
    "# Check frequency of OperatingState feature classes\n",
    "operating_state_frequency = df1['OperatingState'].value_counts()\n",
    "\n",
    "# Print the frequency of classes\n",
    "print(\"Frequency of OperatingState feature classes:\")\n",
    "print(operating_state_frequency)\n"
   ]
  },
  {
   "cell_type": "markdown",
   "metadata": {},
   "source": [
    "4. Statistical Analysis: [10 Marks]\n",
    "A. Is there any significant difference between Funds raised by companies that are still operating vs companies that closed down? [1 Mark]\n",
    "B. Write the null hypothesis and alternative hypothesis. [1 Mark]\n",
    "C. Test for significance and conclusion [1 Mark]\n",
    "D. Make a copy of the original data frame. [1 Mark]\n",
    "E. Check frequency distribution of Result variables. [1 Mark]\n",
    "F. Calculate percentage of winners that are still operating and percentage of contestants that are still operating [1 Mark]\n",
    "G. Write your hypothesis comparing the proportion of companies that are operating between winners and contestants: [2 Mark]\n",
    "H. Test for significance and conclusion [1 Mark]\n",
    "I. Select only the Event that has ‘disrupt’ keyword from 2013 onwards."
   ]
  },
  {
   "cell_type": "code",
   "execution_count": 304,
   "metadata": {},
   "outputs": [
    {
     "name": "stdout",
     "output_type": "stream",
     "text": [
      "T-statistic: 2.6727214329249227\n",
      "P-value: 0.007898898722704632\n",
      "Reject the null hypothesis. There is a significant difference between funds raised by companies that are still operating and companies that closed down.\n"
     ]
    }
   ],
   "source": [
    "from scipy.stats import ttest_ind\n",
    "\n",
    "# Separate funds raised by companies that are still operating and companies that closed down\n",
    "funds_operating = df1[df1['OperatingState'] == 'Operating']['Funds_in_million']\n",
    "funds_closed = df1[df1['OperatingState'] == 'Closed']['Funds_in_million']\n",
    "\n",
    "# Perform t-test\n",
    "t_statistic, p_value = ttest_ind(funds_operating, funds_closed, equal_var=False)\n",
    "\n",
    "# Set significance level\n",
    "alpha = 0.05\n",
    "\n",
    "# Print the results\n",
    "print(\"T-statistic:\", t_statistic)\n",
    "print(\"P-value:\", p_value)\n",
    "\n",
    "if p_value < alpha:\n",
    "    print(\"Reject the null hypothesis. There is a significant difference between funds raised by companies that are still operating and companies that closed down.\")\n",
    "else:\n",
    "    print(\"Fail to reject the null hypothesis. There is no significant difference between funds raised by companies that are still operating and companies that closed down.\")\n"
   ]
  },
  {
   "cell_type": "markdown",
   "metadata": {},
   "source": [
    "**Write the null hypothesis and alternative hypothesis\n",
    "\n",
    "Anwer:\n",
    "Null Hypothesis (H0): There is no significant difference in the mean funds raised by companies that are still operating and companies that closed down.\n",
    "\n",
    "H0: μ_operating = μ_closed\n",
    "Alternative Hypothesis (H1): There is a significant difference in the mean funds raised by companies that are still operating and companies that closed down.\n",
    "\n",
    "H1: μ_operating ≠ μ_closed\n",
    "In plain terms, the null hypothesis suggests that the mean funds raised by companies that are still operating are equal to the mean funds raised by companies that closed down. The alternative hypothesis suggests that there is a difference in the mean funds raised between these two groups.\n",
    "\n",
    "During hypothesis testing, we evaluate the evidence from the data to determine whether to reject the null hypothesis in favor of the alternative hypothesis, based on the calculated test statistic and p-value."
   ]
  },
  {
   "cell_type": "markdown",
   "metadata": {},
   "source": [
    "#Question: Test for significance and conclusion"
   ]
  },
  {
   "cell_type": "code",
   "execution_count": 305,
   "metadata": {},
   "outputs": [
    {
     "name": "stdout",
     "output_type": "stream",
     "text": [
      "T-statistic: 2.6727214329249227\n",
      "P-value: 0.007898898722704632\n",
      "Reject the null hypothesis. There is a significant difference between funds raised by companies that are still operating and companies that closed down.\n"
     ]
    }
   ],
   "source": [
    "# Perform t-test\n",
    "t_statistic, p_value = ttest_ind(funds_operating, funds_closed, equal_var=False)\n",
    "\n",
    "# Set significance level\n",
    "alpha = 0.05\n",
    "\n",
    "# Print the results\n",
    "print(\"T-statistic:\", t_statistic)\n",
    "print(\"P-value:\", p_value)\n",
    "\n",
    "# Check for significance\n",
    "if p_value < alpha:\n",
    "    print(\"Reject the null hypothesis. There is a significant difference between funds raised by companies that are still operating and companies that closed down.\")\n",
    "else:\n",
    "    print(\"Fail to reject the null hypothesis. There is no significant difference between funds raised by companies that are still operating and companies that closed down.\")\n"
   ]
  },
  {
   "cell_type": "code",
   "execution_count": 306,
   "metadata": {},
   "outputs": [],
   "source": [
    "#Make a copy of the original data frame.\n",
    "\n",
    "df2 = df1.copy()"
   ]
  },
  {
   "cell_type": "code",
   "execution_count": 307,
   "metadata": {},
   "outputs": [
    {
     "name": "stdout",
     "output_type": "stream",
     "text": [
      "Frequency distribution of Result variable:\n",
      "Result\n",
      "Contestant         312\n",
      "Finalist            65\n",
      "Audience choice     25\n",
      "Winner              25\n",
      "Runner up           19\n",
      "Name: count, dtype: int64\n"
     ]
    }
   ],
   "source": [
    "# Check frequency distribution of Result variable\n",
    "result_frequency = df2['Result'].value_counts()\n",
    "\n",
    "# Print the frequency distribution\n",
    "print(\"Frequency distribution of Result variable:\")\n",
    "print(result_frequency)\n"
   ]
  },
  {
   "cell_type": "markdown",
   "metadata": {},
   "source": [
    "Calculate percentage of winners that are still operating and percentage of contestants that are still operating "
   ]
  },
  {
   "cell_type": "code",
   "execution_count": 308,
   "metadata": {},
   "outputs": [
    {
     "name": "stdout",
     "output_type": "stream",
     "text": [
      "Percentage of winners that are still operating: 72.0\n",
      "Percentage of contestants that are still operating: 68.58974358974359\n",
      "Percentage of winners that are not operating: 28.000000000000004\n",
      "Percentage of contestants that are not operating: 31.41025641025641\n"
     ]
    }
   ],
   "source": [
    "# Calculate the total number of winners\n",
    "total_winners = df2[df2['Result'] == 'Winner'].shape[0]\n",
    "\n",
    "# Calculate the total number of contestants\n",
    "total_contestants = df2[df2['Result'] == 'Contestant'].shape[0]\n",
    "\n",
    "# Calculate the number of winners that are still operating\n",
    "winners_operating = df2[(df2['Result'] == 'Winner') & (df2['OperatingState'] == 'Operating')].shape[0]\n",
    "\n",
    "# Calculate the number of contestants that are still operating\n",
    "contestants_operating = df2[(df2['Result'] == 'Contestant') & (df2['OperatingState'] == 'Operating')].shape[0]\n",
    "\n",
    "# Calculate the percentages\n",
    "percentage_winners_operating = (winners_operating / total_winners) * 100\n",
    "percentage_contestants_operating = (contestants_operating / total_contestants) * 100\n",
    "\n",
    "# Print the percentages\n",
    "print(\"Percentage of winners that are still operating:\", percentage_winners_operating)\n",
    "print(\"Percentage of contestants that are still operating:\", percentage_contestants_operating)\n",
    "\n",
    "# Calculate the number of winners that are still operating\n",
    "winners_not_operating = df2[(df2['Result'] == 'Winner') & (df2['OperatingState'] != 'Operating')].shape[0]\n",
    "\n",
    "# Calculate the number of contestants that are still operating\n",
    "contestants_not_operating = df2[(df2['Result'] == 'Contestant') & (df2['OperatingState'] != 'Operating')].shape[0]\n",
    "\n",
    "# Calculate the percentages\n",
    "percentage_winners_not_operating = (winners_not_operating / total_winners) * 100\n",
    "percentage_contestants_not_operating = (contestants_not_operating / total_contestants) * 100\n",
    "\n",
    "# Print the percentages\n",
    "print(\"Percentage of winners that are not operating:\", percentage_winners_not_operating)\n",
    "print(\"Percentage of contestants that are not operating:\", percentage_contestants_not_operating)\n"
   ]
  },
  {
   "cell_type": "markdown",
   "metadata": {},
   "source": [
    "Write your hypothesis comparing the proportion of companies that are operating between winners and contestants:\n",
    "\n",
    "Answer:\n",
    "The Null Hypothesis suggests that the proportion of operational companies is equal among both winners and contestants. The Alternative Hypothesis argues that there's a difference in this proportion.\n",
    "\n",
    "To break it down, the Null Hypothesis assumes that the percentage of operational companies among winners is the same as among contestants. On the other hand, the Alternative Hypothesis implies there's a distinction in these percentages.\n",
    "\n",
    "I'll perform a test to check if this difference (in the below section), if any, is significant. If the test reveals a p-value lower than 0.05 (a common threshold), we reject the Null Hypothesis, indicating a significant difference. If not, we cannot reject the Null Hypothesis, suggesting there's no significant difference."
   ]
  },
  {
   "cell_type": "code",
   "execution_count": 309,
   "metadata": {},
   "outputs": [
    {
     "name": "stdout",
     "output_type": "stream",
     "text": [
      "Z-statistic: 0.3542506401722957\n",
      "P-value: 0.7231510556194247\n",
      "Fail to reject the null hypothesis. There is no significant difference in the proportion of operational companies between winners and contestants.\n"
     ]
    }
   ],
   "source": [
    "import numpy as np\n",
    "from scipy.stats import norm\n",
    "\n",
    "# Observed counts\n",
    "successes = np.array([winners_operating, contestants_operating])\n",
    "nobs = np.array([winners_operating + winners_not_operating, contestants_operating + contestants_not_operating])\n",
    "\n",
    "# Proportion of operational companies among winners and contestants\n",
    "p1 = successes[0] / nobs[0]\n",
    "p2 = successes[1] / nobs[1]\n",
    "\n",
    "# Combined proportion\n",
    "p_combined = (successes[0] + successes[1]) / (nobs[0] + nobs[1])\n",
    "\n",
    "# Standard error\n",
    "se = np.sqrt(p_combined * (1 - p_combined) * (1 / nobs[0] + 1 / nobs[1]))\n",
    "\n",
    "# Z-score\n",
    "z_score = (p1 - p2) / se\n",
    "\n",
    "# Two-tailed p-value\n",
    "p_value = 2 * (1 - norm.cdf(np.abs(z_score)))\n",
    "\n",
    "# Print the results\n",
    "print(\"Z-statistic:\", z_score)\n",
    "print(\"P-value:\", p_value)\n",
    "\n",
    "# Check for significance\n",
    "if p_value < alpha:\n",
    "    print(\"Reject the null hypothesis. There is a significant difference in the proportion of operational companies between winners and contestants.\")\n",
    "else:\n",
    "    print(\"Fail to reject the null hypothesis. There is no significant difference in the proportion of operational companies between winners and contestants.\")"
   ]
  },
  {
   "cell_type": "markdown",
   "metadata": {},
   "source": [
    "Select only the Event that has ‘disrupt’ keyword from 2013 onwards."
   ]
  },
  {
   "cell_type": "markdown",
   "metadata": {},
   "source": []
  },
  {
   "cell_type": "code",
   "execution_count": 310,
   "metadata": {},
   "outputs": [
    {
     "name": "stdout",
     "output_type": "stream",
     "text": [
      "    Startup Product Funding Event Result OperatingState  Funds_in_million\n",
      "1       NaN     NaN     NaN   NaN    NaN            NaN               NaN\n",
      "3       NaN     NaN     NaN   NaN    NaN            NaN               NaN\n",
      "5       NaN     NaN     NaN   NaN    NaN            NaN               NaN\n",
      "6       NaN     NaN     NaN   NaN    NaN            NaN               NaN\n",
      "10      NaN     NaN     NaN   NaN    NaN            NaN               NaN\n",
      "..      ...     ...     ...   ...    ...            ...               ...\n",
      "657     NaN     NaN     NaN   NaN    NaN            NaN               NaN\n",
      "658     NaN     NaN     NaN   NaN    NaN            NaN               NaN\n",
      "659     NaN     NaN     NaN   NaN    NaN            NaN               NaN\n",
      "660     NaN     NaN     NaN   NaN    NaN            NaN               NaN\n",
      "661     NaN     NaN     NaN   NaN    NaN            NaN               NaN\n",
      "\n",
      "[446 rows x 7 columns]\n"
     ]
    }
   ],
   "source": [
    "# Convert 'Event' column to string type to use str.contains() method\n",
    "df2['Event'] = df2['Event'].astype(str)\n",
    "\n",
    "# Select rows where 'Event' contains 'disrupt' and the year is 2013 or onwards\n",
    "disrupt_events_2013_onwards = df2[df2['Event'].str.contains('disrupt', case=False) & (df2['Event'].str.extract(r'(\\d{4})').astype(float) >= 2013)]\n",
    "\n",
    "# Display the selected rows\n",
    "print(disrupt_events_2013_onwards)\n"
   ]
  }
 ],
 "metadata": {
  "kernelspec": {
   "display_name": "Python 3",
   "language": "python",
   "name": "python3"
  },
  "language_info": {
   "codemirror_mode": {
    "name": "ipython",
    "version": 3
   },
   "file_extension": ".py",
   "mimetype": "text/x-python",
   "name": "python",
   "nbconvert_exporter": "python",
   "pygments_lexer": "ipython3",
   "version": "3.10.5"
  }
 },
 "nbformat": 4,
 "nbformat_minor": 2
}
