{
  "cells": [
    {
      "cell_type": "markdown",
      "metadata": {
        "id": "mwO2wvw8PqZR"
      },
      "source": [
        "\n",
        "**DOMAIN: Sports**\n",
        "\n",
        "**• CONTEXT:**\n",
        "\n",
        "Company X manages the men's top professional basketball division of the American league system. The dataset contains information on all the teams that have participated in all the past tournaments. It has data about how many baskets each team scored, conceded, how many times they came within the first 2 positions, how many tournaments they have qualified, their best position in the past, etc.\n",
        "\n",
        "• **DATA DESCRIPTION:** \n",
        "\n",
        "bb.csv - The data set contains information on all the teams so far participated in all the past tournaments.\n",
        "\n",
        "**• ATTRIBUTE INFORMATION:**\n",
        "1. Team: Team’s name\n",
        "2. Tournament: Number of played tournaments.\n",
        "3. Score: Team’s score so far.\n",
        "4. PlayedGames: Games played by the team so far.\n",
        "5. WonGames: Games won by the team so far.\n",
        "6. DrawnGames: Games drawn by the team so far.\n",
        "7. LostGames: Games lost by the team so far.\n",
        "8. BasketScored: Basket scored by the team so far.\n",
        "9. BasketGiven: Basket scored against the team so far.\n",
        "10. TournamentChampion: How many times the team was a champion of the tournaments so far.\n",
        "11. Runner-up: How many times the team was a runners-up of the tournaments so far.\n",
        "12. TeamLaunch: Year the team was launched on professional bb.\n",
        "13. HighestPositionHeld: Highest position held by the team amongst all the tournaments played.\n",
        "\n",
        "**• PROJECT OBJECTIVE:** \n",
        "\n",
        "Company’s management wants to invest on proposal on managing some of the best teams in the league. The analytics department has been assigned with a task of creating a report on the performance shown by the teams. Some of the older teams are already in contract with competitors. Hence Company X wants to understand which teams they can approach which will be a deal win for them.\n",
        "\n",
        "Steps and tasks: [ Total Score: 15 points]\n",
        "1. Read the data set, clean the data and prepare a final dataset to be used for analysis.\n",
        "2. Perform detailed statistical analysis and EDA using univariate, bi-variate and multivariate EDA techniques to get a data\n",
        "driven insights on recommending which teams they can approach which will be a deal win for them.. Also as a data\n",
        "and statistics expert you have to develop a detailed performance report using this data.\n",
        "Hint: Use statistical techniques and visualisation techniques to come up with useful metrics and reporting. Find out\n",
        "the best performing team, oldest team, team with highest goals, team with lowest performance etc. and many more.\n",
        "These are just random examples please use your best analytical approach to build this report. You can mix match\n",
        "columns to create new ones which can be used for better analysis. Create your own features if required. Be highly\n",
        "experimental and analytical here to find hidden patterns. Use graphical interactive libraries to enable you to publish\n",
        "interactive plots in python.\n",
        "3. Please include any improvements or suggestions to the association management on quality, quantity, variety, velocity,\n",
        "veracity etc. on the data points collected by the association to perform a better data analysis in future."
      ]
    },
    {
      "cell_type": "code",
      "execution_count": null,
      "metadata": {
        "colab": {
          "base_uri": "https://localhost:8080/",
          "height": 657
        },
        "id": "LLeLeYBUSDmO",
        "outputId": "d6efb84c-d754-4a9e-a6e8-4b5ed4d7825b"
      },
      "outputs": [],
      "source": [
        "#Import basic packages\n",
        "import numpy as np    \n",
        "import pandas as pd\n",
        "\n",
        "#import csv to df\n",
        "bb = pd.read_csv('DS_Part2_BasketBall.csv') \n",
        "\n",
        "bb.describe(include='all')\n",
        "bb.info() \n",
        "# No null values in any of the column. \n",
        "# 2 columns with datatype as int64 (Tournament and HighestPositionHeld)\n",
        "\n",
        "bb.shape \n",
        "\n",
        "# Data frame has 61 rows and 13 columns. \n",
        "\n",
        "bb.head()\n",
        "# top rows clearly shows invalid values '-' in TournamentChampion , runner-up columns, we will assume that the team has not won any chapion title or runner up for '-' value\n",
        "\n",
        "bb.tail()\n",
        "#last team has many missing data , we will remove the team from other analysis"
      ]
    },
    {
      "cell_type": "markdown",
      "metadata": {
        "id": "l-8SzomIx2MH"
      },
      "source": [
        "Data Cleaning"
      ]
    },
    {
      "cell_type": "code",
      "execution_count": null,
      "metadata": {
        "colab": {
          "base_uri": "https://localhost:8080/",
          "height": 794
        },
        "id": "f9_lDC6f37Gq",
        "outputId": "d7e89d3f-6555-48d0-adfb-0ab2fddfd882"
      },
      "outputs": [],
      "source": [
        "# counting the missing values\n",
        "\n",
        "missing_value_count = bb.isnull().sum()\n",
        "print(missing_value_count[0:13])\n",
        "\n",
        "bb= bb.replace('-',0)\n",
        "# In 'TeamLaunch' column there are characters like 'to', '-', '~'.  so cleaning data by removing these.\n",
        "\n",
        "bb = bb.replace(to_replace ='to', value = '-', regex = True) \n",
        "bb = bb.replace(to_replace ='_', value = '-', regex = True) \n",
        "bb = bb.replace(to_replace ='~', value = '-', regex = True)\n",
        "\n",
        "bb.head(10)"
      ]
    },
    {
      "cell_type": "code",
      "execution_count": null,
      "metadata": {
        "id": "6rjLh9PZEIBJ"
      },
      "outputs": [],
      "source": [
        "#Change the object datatype into int\n",
        "# All the columns except \"Team\" can be changed to int column\n",
        "bb_new = bb.copy()\n",
        "# Storing only the starting year of team laucnh, i.e. keeping only the first four characters from column \n",
        "bb_new['TeamLaunch'] = bb['TeamLaunch'].str[:4]\n",
        "# Changing the data type of 'TeamLauch' as integer\n",
        "bb_new['TeamLaunch'] = bb_new['TeamLaunch'].astype(int)"
      ]
    },
    {
      "cell_type": "markdown",
      "metadata": {
        "id": "NTVEaL7esryr"
      },
      "source": [
        "**EXPLORATORY DATA ANALYSIS**"
      ]
    },
    {
      "cell_type": "code",
      "execution_count": null,
      "metadata": {},
      "outputs": [],
      "source": [
        "# Formatting the teamlauch column so it can be processed as int \n",
        "bb_new.head(10)\n",
        "\n",
        "# Changing the data type of all the columns except 'Team'column of dataframe as int\n",
        "bb_new = bb_new.loc[:,bb_new.columns !='Team'] \n",
        "\n",
        "bb_new = bb_new.astype(int)"
      ]
    },
    {
      "cell_type": "code",
      "execution_count": null,
      "metadata": {
        "colab": {
          "base_uri": "https://localhost:8080/",
          "height": 322
        },
        "id": "LJN9phF9srBJ",
        "outputId": "ad6e0f04-7aed-4492-a820-6263f4c6a5f0"
      },
      "outputs": [],
      "source": [
        "# Appending the 'Team' column which is of data type 'string' and dropped while doing type conversion with the converted dataframe\n",
        "bb_new['Team']=(bb['Team'])\n",
        "first_column =bb_new.pop('Team')\n",
        "bb_new.insert(0, 'Team', first_column) # Insert 'Team' as the first column\n",
        "bb_new.head()"
      ]
    },
    {
      "cell_type": "code",
      "execution_count": null,
      "metadata": {
        "colab": {
          "base_uri": "https://localhost:8080/"
        },
        "id": "m64LWPu5D2MN",
        "outputId": "0af0d040-cff6-452e-e339-3d2b2479947a"
      },
      "outputs": [],
      "source": [
        "# Lets get the team who played maximum number of Tournament\n",
        "bb_new.groupby(['Team'])['Tournament'].sum().sort_values(ascending=False).head(5)"
      ]
    },
    {
      "cell_type": "code",
      "execution_count": null,
      "metadata": {
        "colab": {
          "base_uri": "https://localhost:8080/"
        },
        "id": "pHZegv9mknxs",
        "outputId": "814acf6d-1d20-4f3d-d031-5b2fcab9bba7"
      },
      "outputs": [],
      "source": [
        "# Get the teams who played minimum number of Tournament\n",
        "bb_new.groupby(['Team'])['Tournament'].sum().sort_values(ascending=True).head(5)"
      ]
    },
    {
      "cell_type": "code",
      "execution_count": null,
      "metadata": {
        "colab": {
          "base_uri": "https://localhost:8080/"
        },
        "id": "U4ykiBrJFaFk",
        "outputId": "b45676f1-bd0b-4598-f116-4df644b5ddae"
      },
      "outputs": [],
      "source": [
        "# Calculate the WINNIING % of the team from PlayedGames\tand WonGames and adding extra column to the dataframe\n",
        "bb_new['WinResult'] = bb_new['WonGames']/bb_new['PlayedGames']\n",
        "bb_new['WinResult'].dtype\n",
        "TopWin = bb_new['WinResult'].sort_values(ascending =False).head(10)\n",
        "print('The top 5 teams, which won the maximum games are')\n",
        "bb_new.groupby(['Team'])['WinResult'].sum().sort_values(ascending =False).head(5)"
      ]
    },
    {
      "cell_type": "code",
      "execution_count": null,
      "metadata": {
        "colab": {
          "base_uri": "https://localhost:8080/"
        },
        "id": "46hrP6oWUF1-",
        "outputId": "a5308f5d-3499-4e9b-d254-4eef62864846"
      },
      "outputs": [],
      "source": [
        "# Calculate the percentage of getting championship against tounament played\n",
        "bb_new['Champions'] = bb_new['TournamentChampion']/bb_new['Tournament']\n",
        "bb_new['Champions'].dtype\n",
        "TopChampions = bb_new['Champions'].sort_values(ascending =False).head(10)\n",
        "print('The top 5 teams which became Champions are:')\n",
        "bb_new.groupby(['Team'])['Champions'].sum().sort_values(ascending =False).head(5)"
      ]
    },
    {
      "cell_type": "code",
      "execution_count": null,
      "metadata": {
        "colab": {
          "base_uri": "https://localhost:8080/"
        },
        "id": "S6WaxKFIVHv2",
        "outputId": "2653268e-e983-44ad-993e-bb4adbe08cdf"
      },
      "outputs": [],
      "source": [
        "# Calculate the total period, the team is playing the tournament assuming the teams included upto 2020\n",
        "bb_new['TeamAge'] = 2020-bb_new['TeamLaunch']\n",
        "print('The oldest team in the tournament is of age: ',bb_new['TeamAge'].max())\n",
        "print('The oldest team in the tournament are: ')\n",
        "print(bb_new[bb_new['TeamAge'] == bb_new['TeamAge'].max()]) "
      ]
    },
    {
      "cell_type": "code",
      "execution_count": null,
      "metadata": {
        "colab": {
          "base_uri": "https://localhost:8080/"
        },
        "id": "J8QIdmC9hC-C",
        "outputId": "250d6da2-b6a2-4ee9-f6ba-6e9bdcdb64e8"
      },
      "outputs": [],
      "source": [
        "print('The newest team in the tournament is of age: ',bb_new['TeamAge'].min())\n",
        "print('The newest team in the tournament are: ')\n",
        "print(bb_new[bb_new['TeamAge'] == bb_new['TeamAge'].min()])"
      ]
    },
    {
      "cell_type": "code",
      "execution_count": null,
      "metadata": {
        "colab": {
          "base_uri": "https://localhost:8080/"
        },
        "id": "9p4tN8_Ph0FN",
        "outputId": "9ccd85d0-acba-4598-ea54-fb71c9214b68"
      },
      "outputs": [],
      "source": [
        "# Getting the teams those who played maximum number of Tournament against the age of the team\n",
        "bb_new['TeamExperience'] = bb_new['TeamAge']/bb_new['Tournament']\n",
        "bb_new['TeamExperience'].dtype\n",
        "print('The top 5 teams with maximum experience of Tournament are:')\n",
        "bb_new.groupby(['Team'])['TeamExperience'].sum().sort_values(ascending =False).head(5)"
      ]
    },
    {
      "cell_type": "code",
      "execution_count": null,
      "metadata": {
        "colab": {
          "base_uri": "https://localhost:8080/"
        },
        "id": "btyRMceJlwHq",
        "outputId": "56d5ab33-f01b-4509-b17d-e351827d61e6"
      },
      "outputs": [],
      "source": [
        "print('The 5 teams with minimum experience of Tournament are:')\n",
        "bb_new.groupby(['Team'])['TeamExperience'].sum().sort_values(ascending =True).head(5)"
      ]
    },
    {
      "cell_type": "code",
      "execution_count": null,
      "metadata": {
        "colab": {
          "base_uri": "https://localhost:8080/"
        },
        "id": "qGWFgsm-i7Rc",
        "outputId": "8941bd94-f30c-4711-adb3-f36a55ee2b25"
      },
      "outputs": [],
      "source": [
        "# Calculate the percentage of getting championship against experience\n",
        "bb_new['TeamPerformance'] = bb_new['Champions']/bb_new['TeamExperience']\n",
        "bb_new['TeamPerformance'].dtype\n",
        "print('The top 5 teams with the percentage of getting championship against experience are:')\n",
        "bb_new.groupby(['Team'])['TeamPerformance'].sum().sort_values(ascending =False).head(5)"
      ]
    },
    {
      "cell_type": "code",
      "execution_count": null,
      "metadata": {
        "colab": {
          "base_uri": "https://localhost:8080/",
          "height": 415
        },
        "id": "jBzwFEI0jd4y",
        "outputId": "f2e163c9-9792-4a5e-b549-98ae57c6571c"
      },
      "outputs": [],
      "source": [
        "# Lets Filter the dataframe to understand age of the team, WinResult, Champions,Team Experience and Team Performance\n",
        "df_1=bb_new.filter(items=['Team', 'TeamAge', 'TeamExperience','TeamPerformance','WinResult','Champions']) \n",
        "df_1"
      ]
    },
    {
      "cell_type": "markdown",
      "metadata": {},
      "source": [
        "lets explore data using graphs and charts"
      ]
    },
    {
      "cell_type": "code",
      "execution_count": null,
      "metadata": {
        "colab": {
          "base_uri": "https://localhost:8080/",
          "height": 870
        },
        "id": "cWFkRHI-oPPA",
        "outputId": "7a9b8281-6f3c-441f-962a-e1fb6f05f956"
      },
      "outputs": [],
      "source": [
        "# Let's find the team with better performance\n",
        "plt.figure(figsize = (12,8))\n",
        "# Plot the teamAge against the Team Performance\n",
        "sns.barplot(x='TeamAge', y='TeamPerformance',data=df_1)"
      ]
    },
    {
      "cell_type": "markdown",
      "metadata": {
        "id": "yy5eOa1OMVPc"
      },
      "source": [
        "**It is observed that Team of the age 91 has better performance.(Team 1, 2 and 3)**"
      ]
    },
    {
      "cell_type": "code",
      "execution_count": null,
      "metadata": {
        "colab": {
          "base_uri": "https://localhost:8080/",
          "height": 622
        },
        "id": "nrG5LSB1NCyJ",
        "outputId": "eb06834b-342b-4680-c3e8-7c84a898ae33"
      },
      "outputs": [],
      "source": [
        "# Let's find the team with better win results\n",
        "# Plot the top 10 teams which gave better win results \n",
        "df_2=bb_new.groupby(['TeamAge'])['WinResult'].sum().sort_values(ascending =False).head(10)                                                                                           \n",
        "plt.figure(figsize = (10,10))\n",
        "sns.barplot(y = df_2.values ,x = df_2.index)"
      ]
    },
    {
      "cell_type": "markdown",
      "metadata": {
        "id": "2qhHbfl5UPcR"
      },
      "source": [
        " **It is observed that Team of age 91 and 79 has Won more games with respect to the total games played.**"
      ]
    },
    {
      "cell_type": "code",
      "execution_count": null,
      "metadata": {
        "colab": {
          "base_uri": "https://localhost:8080/",
          "height": 202
        },
        "id": "2YZBj9ZrNCZk",
        "outputId": "ff7abf36-27db-471c-d442-c60262b60bed"
      },
      "outputs": [],
      "source": [
        "# #  Let's find the correlation matrix between all the performance metrics\n",
        "numeric_df = df_1.select_dtypes(include=['number'])\n",
        "corr=numeric_df.corr()\n",
        "corr"
      ]
    },
    {
      "cell_type": "code",
      "execution_count": null,
      "metadata": {
        "colab": {
          "base_uri": "https://localhost:8080/",
          "height": 366
        },
        "id": "oYeYAREUXjx6",
        "outputId": "a78be259-aa6e-4297-acd1-2daa8c4258c8"
      },
      "outputs": [],
      "source": [
        "sns.heatmap(corr, annot = True)"
      ]
    },
    {
      "cell_type": "markdown",
      "metadata": {
        "id": "rNKX3y0RW7Bj"
      },
      "source": [
        "**The Correlation table shows high correlation between Team Performance and Tournament Champions**."
      ]
    },
    {
      "cell_type": "code",
      "execution_count": null,
      "metadata": {
        "colab": {
          "base_uri": "https://localhost:8080/",
          "height": 622
        },
        "id": "IpCY2d82Y12o",
        "outputId": "b971d363-53e0-496e-fa82-841070d3ac78"
      },
      "outputs": [],
      "source": [
        "# Let's find the team which has got championship\n",
        "# Plot the top 10 teams which were champions\n",
        "df_3=bb_new.groupby(['TeamAge'])['Champions'].sum().sort_values(ascending =False).head(10)                                                                                           \n",
        "plt.figure(figsize = (10,10))\n",
        "sns.barplot(y = df_3.values ,x = df_3.index)"
      ]
    },
    {
      "cell_type": "code",
      "execution_count": null,
      "metadata": {
        "colab": {
          "base_uri": "https://localhost:8080/",
          "height": 296
        },
        "id": "KAnLKMp2Zjz9",
        "outputId": "16254635-aa10-4eb0-eb93-eb0cdd7e9b6b"
      },
      "outputs": [],
      "source": [
        "# Lets compare New vs old team's performance with respect to age and Highest Position based on Championship \n",
        "sns.scatterplot(data=bb_new, x=\"Champions\", y=\"HighestPositionHeld\",size=\"TeamAge\")"
      ]
    },
    {
      "cell_type": "code",
      "execution_count": null,
      "metadata": {
        "colab": {
          "base_uri": "https://localhost:8080/",
          "height": 296
        },
        "id": "-DFZl2n-ecze",
        "outputId": "3d17294a-4119-4f55-c888-727c06f943a5"
      },
      "outputs": [],
      "source": [
        "# Lets compare New vs old team's performance with respect to age and Highest Position based on WinResult \n",
        "sns.scatterplot(data=bb_new, x=\"WinResult\", y=\"HighestPositionHeld\",size=\"TeamAge\")"
      ]
    },
    {
      "cell_type": "markdown",
      "metadata": {
        "id": "C2FvKCEgsmQc"
      },
      "source": [
        "Team of age 15 (Young Team) held the Highest Position"
      ]
    },
    {
      "cell_type": "code",
      "execution_count": null,
      "metadata": {
        "colab": {
          "base_uri": "https://localhost:8080/",
          "height": 981
        },
        "id": "S_1yd755o6F4",
        "outputId": "09aa2fcb-c622-4a27-b0b1-8d6f70437e12"
      },
      "outputs": [],
      "source": [
        "sns.lmplot(x=\"WinResult\", y=\"HighestPositionHeld\", hue = \"Team\", data=bb_new)"
      ]
    },
    {
      "cell_type": "markdown",
      "metadata": {
        "id": "Fpg9mzhMtFqj"
      },
      "source": [
        "Team 57 held the Highest Position"
      ]
    },
    {
      "cell_type": "markdown",
      "metadata": {
        "id": "SxfgRXU4tyFx"
      },
      "source": [
        "**TOP 5 TEAMS FROM BELOW CONSOLIDATED TABLES A AND B CAN TREATED AS BEST PERFORMERS AND HENCE COMPANY CAN CHOOSE BETWEEN THESE TEAMS FOR SPONSORSHIP**"
      ]
    },
    {
      "cell_type": "code",
      "execution_count": null,
      "metadata": {
        "colab": {
          "base_uri": "https://localhost:8080/",
          "height": 219
        },
        "id": "Cgy6WvIgqIqf",
        "outputId": "3fd90c7b-3fd9-4a6a-ef7b-8e3263283394"
      },
      "outputs": [],
      "source": [
        "df_4 = df_1.sort_values(by='WinResult',ascending=False) # Top performing teams\n",
        "print('TOP OLD TEAMS TABLE A')\n",
        "df_4.sort_values(by='TeamAge',ascending=False).head(5) # Top Performing old teams "
      ]
    },
    {
      "cell_type": "code",
      "execution_count": null,
      "metadata": {
        "colab": {
          "base_uri": "https://localhost:8080/",
          "height": 219
        },
        "id": "cFu41acmuibJ",
        "outputId": "5f4c5465-016e-4476-f6cf-f541c83f59ee"
      },
      "outputs": [],
      "source": [
        "df_5 = df_1.sort_values(by='TeamExperience',ascending=False) # Top performing teams\n",
        "print('TOP OLD TEAMS :TABLE B')\n",
        "df_5.sort_values(by='TeamAge',ascending=False).head(5) "
      ]
    },
    {
      "cell_type": "code",
      "execution_count": null,
      "metadata": {
        "colab": {
          "base_uri": "https://localhost:8080/",
          "height": 219
        },
        "id": "qTuD6jh3tun1",
        "outputId": "e3c63c06-435b-42d1-80d7-5c740fe48011"
      },
      "outputs": [],
      "source": [
        "# If Top Performing old teams above are already in contract with competitors \n",
        "# then below Young Teams Can be approach\n",
        "print('Top Young Teams: TABLE A')\n",
        "df_4.sort_values(by='TeamAge',ascending=True).head(5)"
      ]
    },
    {
      "cell_type": "code",
      "execution_count": null,
      "metadata": {
        "colab": {
          "base_uri": "https://localhost:8080/",
          "height": 219
        },
        "id": "fb0AmZDx0BqX",
        "outputId": "8acc2b75-2564-4ac9-d268-899c463cfc6b"
      },
      "outputs": [],
      "source": [
        "print('Top Young Teams: TABLE B')\n",
        "df_5.sort_values(by='TeamAge',ascending=True).head(5)"
      ]
    },
    {
      "cell_type": "markdown",
      "metadata": {
        "id": "3RnQhY_pXjMt"
      },
      "source": [
        "3. Following are improvements or suggestions to the association management on quality, quantity, variety, velocity, veracity etc. on the data points collected by the association to perform a better data analysis in future.\n",
        "\n",
        "*  Teams which are already in contract with competitors\n",
        "*  The year for which the decision is to be made\n",
        "*   Top players of the team\n",
        "\n",
        "\n"
      ]
    }
  ],
  "metadata": {
    "colab": {
      "collapsed_sections": [
        "mwO2wvw8PqZR"
      ],
      "name": "Basketball_best_Team.ipynb",
      "provenance": []
    },
    "kernelspec": {
      "display_name": "Python 3",
      "name": "python3"
    },
    "language_info": {
      "codemirror_mode": {
        "name": "ipython",
        "version": 3
      },
      "file_extension": ".py",
      "mimetype": "text/x-python",
      "name": "python",
      "nbconvert_exporter": "python",
      "pygments_lexer": "ipython3",
      "version": "3.10.5"
    }
  },
  "nbformat": 4,
  "nbformat_minor": 0
}
