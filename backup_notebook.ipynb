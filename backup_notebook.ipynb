{
 "cells": [
  {
   "cell_type": "code",
   "execution_count": 143,
   "metadata": {},
   "outputs": [
    {
     "name": "stdout",
     "output_type": "stream",
     "text": [
      "  Planned_To_Purchase  Order_Placed  Order_Not_Placed\n",
      "0                 Yes           400               100\n",
      "1                  No           200              1300\n"
     ]
    }
   ],
   "source": [
    "import pandas as pd\n",
    "\n",
    "# Create the data with self explainary variable and field names\n",
    "data = {\n",
    "    'Planned_To_Purchase': ['Yes', 'No'],\n",
    "    'Order_Placed': [400, 200],\n",
    "    'Order_Not_Placed': [100, 1300],\n",
    "}\n",
    "\n",
    "# Create DataFrame\n",
    "df = pd.DataFrame(data);\n",
    "\n",
    "print(df);"
   ]
  },
  {
   "cell_type": "markdown",
   "metadata": {},
   "source": [
    "PART-A\n",
    "\n",
    "Please refer the table below to answer below questions:\n",
    "\n",
    "1.A. Refer above table and find the joint probability of the people who planned to purchase and actually placed an order.\n",
    "\n",
    "question rephased: What is the probability of a randomly selected people who planned to purchase and actually placed an order"
   ]
  },
  {
   "cell_type": "code",
   "execution_count": 144,
   "metadata": {},
   "outputs": [
    {
     "name": "stdout",
     "output_type": "stream",
     "text": [
      "Answer 1 : Joint probability of Planned to purchase = 0.2\n"
     ]
    }
   ],
   "source": [
    "People_Planned_And_Purchased =df[df['Planned_To_Purchase'] == 'Yes']['Order_Placed']\n",
    "Total_People =df.iloc[:,1:3].sum().sum()\n",
    "joint_probability_plan_and_purchansed = ( People_Planned_And_Purchased / Total_People)\n",
    "\n",
    "print(f\"Answer 1 : Joint probability of Planned to purchase = {joint_probability_plan_and_purchansed[0]}\");"
   ]
  },
  {
   "cell_type": "markdown",
   "metadata": {},
   "source": [
    "1.B. Refer to the above table and find the joint probability of the people who planned to purchase and actually placed an order, given that \n",
    "people planned to purchase. "
   ]
  },
  {
   "cell_type": "code",
   "execution_count": 145,
   "metadata": {},
   "outputs": [
    {
     "name": "stdout",
     "output_type": "stream",
     "text": [
      "Answer 2 : Conditional probability of People Planned and purchase given Planned to purchase = 0.8\n"
     ]
    }
   ],
   "source": [
    "People_Planned_To_Purchase = df[df['Planned_To_Purchase'] == 'Yes'].iloc[:,1:3].sum().sum()\n",
    "\n",
    "conditional_probability_plan_and_purchased_given_planned_to_purchase = People_Planned_And_Purchased/People_Planned_To_Purchase \n",
    "\n",
    "print(f\"Answer 2 : Conditional probability of People Planned and purchase given Planned to purchase = {conditional_probability_plan_and_purchased_given_planned_to_purchase[0]}\");"
   ]
  },
  {
   "cell_type": "markdown",
   "metadata": {},
   "source": [
    "2. An electrical manufacturing company conducts quality checks at specified periods on the products it manufactures. Historically, the \n",
    "failure rate for the manufactured item is 5%. Suppose a random sample of 10 manufactured items is selected. Answer the following \n",
    "questions."
   ]
  },
  {
   "cell_type": "code",
   "execution_count": 146,
   "metadata": {},
   "outputs": [],
   "source": [
    "Failure_Probability = 0.5\n",
    "Sample_Size = 10"
   ]
  },
  {
   "cell_type": "markdown",
   "metadata": {},
   "source": [
    "\n",
    "Question 2.A. Probability that none of the items are defective?\n",
    "\n",
    "Answer: Because probability outcome of a single trial can only have two possible outcomes, thus we will apply the Binomial probability formula, i.e.:\n",
    "P(X = k) = (n choose k) * p^k * (1-p)^(n-k)\n",
    "\n",
    "P(X=0) = (10 choose 0) * .05^0 * (.95)^(10)\n",
    "P(X=0) = 1 * 1 * 0.5987\n",
    "P(X=0) = 0.5987 =  approx 60%"
   ]
  },
  {
   "cell_type": "code",
   "execution_count": 147,
   "metadata": {},
   "outputs": [
    {
     "name": "stdout",
     "output_type": "stream",
     "text": [
      "Probability: 0.5987369392383789\n"
     ]
    }
   ],
   "source": [
    "from scipy.stats import binom\n",
    "\n",
    "n = no_of_trials = 10  \n",
    "probability_of_success = 0.05 # in this case probability of failure against trail  \n",
    "\n",
    "# Number of successes you want to find the probability for\n",
    "k = required_no_of_success = 0  # For the question, we want to find the probability of 0 defective items\n",
    "\n",
    "probability_mass_function = binom.pmf(k, no_of_trials, probability_of_success)\n",
    "print(\"Probability:\", probability_mass_function)"
   ]
  },
  {
   "cell_type": "code",
   "execution_count": 148,
   "metadata": {},
   "outputs": [
    {
     "name": "stdout",
     "output_type": "stream",
     "text": [
      "Probability to get exact 1 defective item: 0.3151247048623047\n",
      "Probability to get exact 2 defective items: 0.07463479852001963\n",
      "Probability to get <= 2 defective items: 0.9884964426207031\n",
      "Probability to get >= 3 defective items: 0.01150355737929688\n"
     ]
    }
   ],
   "source": [
    "#Question 2B: Probability that exactly one of the items is defective?\n",
    "no_of_trials = n = 10  \n",
    "probability_of_success = p = 0.05\n",
    "required_no_of_success = k = 1  # For the question, we want to find the probability of 1 defective item\n",
    "p_to_get_exact_1_defective_item = binom.pmf(required_no_of_success, no_of_trials, probability_of_success)\n",
    "print(\"Probability to get exact 1 defective item:\", p_to_get_exact_1_defective_item)\n",
    "\n",
    "#Question 2C: Probability that exactly two of the items are defective?\n",
    "k = required_no_of_success = 2  # For the question, we want to find the probability of exact 2 defective items\n",
    "p_to_get_exact_2_defective_item = binom.pmf(required_no_of_success, no_of_trials, probability_of_success)\n",
    "print(\"Probability to get exact 2 defective items:\", p_to_get_exact_2_defective_item)\n",
    "\n",
    "#Question 2C: Probability that two or fewer of the items are defective?\n",
    "k = required_no_of_maximum_success = 2 #because we need to find a cumulative success from 0 to 2 , thus I will use the cdf function   \n",
    "p_to_get_max_2_defective_item = binom.cdf(required_no_of_maximum_success, no_of_trials, probability_of_success)\n",
    "print(\"Probability to get <= 2 defective items:\", p_to_get_max_2_defective_item)\n",
    "\n",
    "#Question 2D: Probability that three or more of the items are defective?\n",
    "#because we need to find a cumulative success from 3 to 10 , as the range not starting from 0, thus I will use Survival function\n",
    "#Note: sf function needs k to have more than not \"more than and euqal to\" thus I am using 2 , because 3 or more is >2\n",
    "k = required_no_of_success_more_than = 2 \n",
    "p_to_get_min_3_defective_item = binom.sf(required_no_of_success_more_than, no_of_trials, probability_of_success)\n",
    "print(\"Probability to get >= 3 defective items:\", p_to_get_min_3_defective_item)"
   ]
  },
  {
   "cell_type": "markdown",
   "metadata": {},
   "source": [
    "Scenario 3. A car salesman sells on an average 3 cars per week."
   ]
  },
  {
   "cell_type": "code",
   "execution_count": 149,
   "metadata": {},
   "outputs": [
    {
     "name": "stdout",
     "output_type": "stream",
     "text": [
      "Probability that sales person will sell some (1 or more) cars: = \"0.8008517265285442\n",
      "Probability that sales person will sell >=2 and < 5 cars: = \"0.6161149710523164\n",
      "Probability that sales person will sell >=2 and < 5 cars: = \"0.6161149710523164\n"
     ]
    }
   ],
   "source": [
    "# here we have avg rate of occurance and we need to find the P from it, thus we will use Poisson fn from scipy\n",
    "from scipy.stats import poisson\n",
    "\n",
    "average_rate_of_occurance = mu =  3\n",
    "\n",
    "#Question 3A: What is Probability that in a given week he will sell some cars?\n",
    "#because the fn does not allow to enter required_p_for_minimum_occurance directly, rather it allows to idenfiy cumulative probability from minimum to given occurance\n",
    "#, thus we will find the p for 0 occurance and then deduct it from 1 to find the P for all other occurances \n",
    "required_p_for_minimum_occurance = k = 1 \n",
    "p_for_given_or_more_occurance = 1-poisson.cdf(required_p_for_minimum_occurance, average_rate_of_occurance)\n",
    "print(f'Probability that sales person will sell some (1 or more) cars: = \"{p_for_given_or_more_occurance }')\n",
    "\n",
    "#Question 3B: What is Probability that in a given week he will sell 2 or more but less than 5 cars?\n",
    "required_p_for_min_occurance = 2\n",
    "required_p_for_max_occurance = 5\n",
    "#we can calulate using cdf function, because it does not provide direct range based calculation, thus we need to find the cumilate (0 or given) P for min and max , then deduct max P from min P\n",
    "required_p_upto_min_occurance = required_p_for_min_occurance-1\n",
    "required_p_upto_max_occurance = required_p_for_max_occurance-1\n",
    "p_for_min_occurance = poisson.cdf(required_p_upto_min_occurance, average_rate_of_occurance)\n",
    "p_for_max_occurance = poisson.cdf(required_p_upto_max_occurance, average_rate_of_occurance)\n",
    "print(f'Probability that sales person will sell >=2 and < 5 cars: = \"{p_for_max_occurance - p_for_min_occurance}')\n",
    "#another way : because we know exactly the 3 point where we need probability to calculate, and then we can sum them to get the answer, thus we can also use mass function.\n",
    "print(f'Probability that sales person will sell >=2 and < 5 cars: = \"{poisson.pmf(2,average_rate_of_occurance)+poisson.pmf(3,average_rate_of_occurance)+poisson.pmf(4,average_rate_of_occurance)}')"
   ]
  },
  {
   "cell_type": "code",
   "execution_count": 150,
   "metadata": {},
   "outputs": [
    {
     "data": {
      "image/png": "[encoded data removed]",
      "text/plain": [
       "<Figure size 640x480 with 1 Axes>"
      ]
     },
     "metadata": {},
     "output_type": "display_data"
    }
   ],
   "source": [
    "#Question 3C: Plot the poisson distribution function for cumulative probability of cars sold per-week vs number of cars sold per week.\n",
    "import numpy as np\n",
    "import matplotlib.pyplot as plt\n",
    "\n",
    "# Generate x values (number of cars sold per week)\n",
    "x_values = np.arange(0, 11)  # Let's consider up to 10 cars sold\n",
    "\n",
    "# Calculate the cumulative probabilities for each x value\n",
    "cumulative_probabilities = poisson.cdf(x_values, average_rate_of_occurance)\n",
    "\n",
    "# Plot the Poisson distribution function\n",
    "plt.plot(x_values, cumulative_probabilities)\n",
    "plt.title(\"Probability of 'cars sold per week' vs 'number of cars sold per week'\")\n",
    "plt.xlabel('Number of cars sold per week')\n",
    "plt.ylabel('cumulative probability')\n",
    "plt.grid(True)\n",
    "plt.show()"
   ]
  },
  {
   "cell_type": "markdown",
   "metadata": {},
   "source": [
    "Scenario 4. Accuracy in understanding orders for a speech based bot at a restaurant is important for the Company X which has designed, \n",
    "marketed and launched the product for a contactless delivery due to the COVID-19 pandemic. Recognition accuracy that measures the \n",
    "percentage of orders that are taken correctly is 86.8%. Suppose that you place an order with the bot and two friends of yours \n",
    "independently place orders with the same bot. Answer the following questions."
   ]
  },
  {
   "cell_type": "code",
   "execution_count": 151,
   "metadata": {},
   "outputs": [
    {
     "name": "stdout",
     "output_type": "stream",
     "text": [
      "Answer 4A: The probability that all three orders will be recognized = 0.653972032 or by using mass function = 0.653972032\n",
      "Answer 4B: Probability that none of the three orders will be recognized correctly: = 0.0022999680000000003  or by using mass function = 0.002299968\n",
      "Answer 4C: probability that at least two of the three orders will be recognised correctly: = 0.952327936\n"
     ]
    }
   ],
   "source": [
    "# For this scenario we know that the probability will be cumulation of result of either true or false thus we will us binomial functions\n",
    "probability_of_success = p = 0.868\n",
    "no_of_trials = no_of_orders = 3\n",
    "\n",
    "#Question 4A: What is the probability that all three orders will be recognised correctly?\n",
    "#Anwer: here we need to find the probability of occuring three success independently, thus we will multiply the independent probability\n",
    "print (f\"Answer 4A: The probability that all three orders will be recognized = {.868**3} or by using mass function = {binom.pmf(3,no_of_orders,probability_of_success)}\")\n",
    "\n",
    "#Question 4B: What is the probability that none of the three orders will be recognised correctly?\n",
    "#Answer: herw wee need to find the probability of each order not getting recognized first, then we need to find the P when the same event occurs trice, for this we will  multiple the (1-p_of_success) 3 times\n",
    "print (f\"Answer 4B: Probability that none of the three orders will be recognized correctly: = {(1-.868)**3}  or by using mass function = {binom.pmf(0,no_of_orders,probability_of_success)}\")\n",
    "\n",
    "#Question 4C: What is the probability that at least two of the three orders will be recognised correctly?\n",
    "#Answer: herw wee need to find the cumulative probability upto 2 successful occurance, for this we an use cdf function\n",
    "required_no_of_minimum_success = k = 2\n",
    "#because cdf function takes required_no_of_maximum_success, and in this case we need required_no_of_minimum_success thus we need first find required_no_of_minimum_success of the orders\n",
    "#i.e. cumulative probability upto 1 success orders, then reuce it from total possible probability i.e. 1\n",
    "from scipy.stats import binom\n",
    "P_for_minimum_of_2_occurance = 1 - binom.cdf(1, no_of_trials, probability_of_success)\n",
    "print (f\"Answer 4C: probability that at least two of the three orders will be recognised correctly: = {P_for_minimum_of_2_occurance}\")"
   ]
  },
  {
   "cell_type": "markdown",
   "metadata": {},
   "source": [
    "CONTEXT: Company X manages the men's top professional basketball division of the American league system. The dataset contains information \n",
    "on all the teams that have participated in all the past tournaments. It has data about how many baskets each team scored, conceded, how many \n",
    "times they came within the first 2 positions, how many tournaments they have qualified, their best position in the past, etc.\n",
    "• DATA DESCRIPTION: Basketball.csv - The data set contains information on all the teams so far participated in all the past tournaments.\n",
    "• DATA DICTIONARY:\n",
    "1. Team: Team’s name\n",
    "2. Tournament: Number of played tournaments.\n",
    "3. Score: Team’s score so far.\n",
    "4. PlayedGames: Games played by the team so far.\n",
    "5. WonGames: Games won by the team so far.\n",
    "6. DrawnGames: Games drawn by the team so far.\n",
    "7. LostGames: Games lost by the team so far.\n",
    "8. BasketScored: Basket scored by the team so far.\n",
    "9. BasketGiven: Basket scored against the team so far.\n",
    "10. TournamentChampion: How many times the team was a champion of the tournaments so far.\n",
    "11. Runner-up: How many times the team was a runners-up of the tournaments so far.\n",
    "12. TeamLaunch: Year the team was launched on professional basketball.\n",
    "13. HighestPositionHeld: Highest position held by the team amongst all the tournaments played.\n",
    "\n",
    "• PROJECT OBJECTIVE: Company’s management wants to invest on proposals on managing some of the best teams in the league. The analytics \n",
    "department has been assigned with a task of creating a report on the performance shown by the teams. Some of the older teams are already in \n",
    "contract with competitors. Hence Company X wants to understand which teams they can approach which will be a deal win for them."
   ]
  },
  {
   "cell_type": "code",
   "execution_count": 166,
   "metadata": {},
   "outputs": [
    {
     "name": "stdout",
     "output_type": "stream",
     "text": [
      "      Team  Tournament Score PlayedGames WonGames DrawnGames LostGames  \\\n",
      "0   Team 1          86  4385        2762     1647        552       563   \n",
      "1   Team 2          86  4262        2762     1581        573       608   \n",
      "2   Team 3          80  3442        2614     1241        598       775   \n",
      "3   Team 4          82  3386        2664     1187        616       861   \n",
      "4   Team 5          86  3368        2762     1209        633       920   \n",
      "5   Team 6          73  2819        2408      990        531       887   \n",
      "6   Team 7          82  2792        2626      948        608      1070   \n",
      "7   Team 8          70  2573        2302      864        577       861   \n",
      "8   Team 9          58  2109        1986      698        522       766   \n",
      "9  Team 10          51  1884        1728      606        440       682   \n",
      "\n",
      "  BasketScored BasketGiven TournamentChampion Runner-up TeamLaunch  \\\n",
      "0         5947        3140                 33        23       1929   \n",
      "1         5900        3114                 25        25       1929   \n",
      "2         4534        3309                 10         8       1929   \n",
      "3         4398        3469                  6         6   1931to32   \n",
      "4         4631        3700                  8         7       1929   \n",
      "5         3680        3373                  1         4    1934-35   \n",
      "6         3609        3889                  -         -       1929   \n",
      "7         3228        3230                  2         3       1929   \n",
      "8         2683        2847                  -         1    1939-40   \n",
      "9         2159        2492                  1         -    1932-33   \n",
      "\n",
      "   HighestPositionHeld  \n",
      "0                    1  \n",
      "1                    1  \n",
      "2                    1  \n",
      "3                    1  \n",
      "4                    1  \n",
      "5                    1  \n",
      "6                    3  \n",
      "7                    1  \n",
      "8                    2  \n",
      "9                    1  \n",
      "<class 'pandas.core.frame.DataFrame'>\n",
      "RangeIndex: 61 entries, 0 to 60\n",
      "Data columns (total 13 columns):\n",
      " #   Column               Non-Null Count  Dtype \n",
      "---  ------               --------------  ----- \n",
      " 0   Team                 61 non-null     object\n",
      " 1   Tournament           61 non-null     int64 \n",
      " 2   Score                61 non-null     object\n",
      " 3   PlayedGames          61 non-null     object\n",
      " 4   WonGames             61 non-null     object\n",
      " 5   DrawnGames           61 non-null     object\n",
      " 6   LostGames            61 non-null     object\n",
      " 7   BasketScored         61 non-null     object\n",
      " 8   BasketGiven          61 non-null     object\n",
      " 9   TournamentChampion   61 non-null     object\n",
      " 10  Runner-up            61 non-null     object\n",
      " 11  TeamLaunch           61 non-null     object\n",
      " 12  HighestPositionHeld  61 non-null     int64 \n",
      "dtypes: int64(2), object(11)\n",
      "memory usage: 6.3+ KB\n",
      "Index([], dtype='object')\n"
     ]
    }
   ],
   "source": [
    "import pandas as pd\n",
    "\n",
    "# Loading the CSV file\n",
    "basketBallData = pd.read_csv('DS_Part2_Basketball.csv')\n",
    "\n",
    "# look at a quick view \n",
    "print(basketBallData.head(10))\n",
    "basketBallData.describe(include=\"all\")\n",
    "basketBallData.info()\n",
    "#1. Read the data set, clean the data and prepare final dataset to be used for analysis.\n",
    "# before cleaning preserve the original copy\n",
    "# Step 1: Check for missing (null)  values\n",
    "null_values = df.isnull().sum()\n",
    "# Check for 0 values in each column\n",
    "zero_values = (df == 0).sum()\n",
    "# Check for empty strings (assuming empty strings are represented as NaN after reading the CSV)\n",
    "empty_string_values = (df == '').sum()\n",
    "# Combine checks for null, empty, 0, or negative values\n",
    "issues = null_values | (empty_string_values > 0) | (zero_values > 0)\n",
    "# Filter the DataFrame to include only columns with issues\n",
    "columns_with_issues = df.columns[issues]\n",
    "# Display the columns with issues\n",
    "print(columns_with_issues)"
   ]
  },
  {
   "cell_type": "code",
   "execution_count": 197,
   "metadata": {},
   "outputs": [
    {
     "ename": "ValueError",
     "evalue": "The truth value of a Series is ambiguous. Use a.empty, a.bool(), a.item(), a.any() or a.all().",
     "output_type": "error",
     "traceback": [
      "\u001b[1;31m---------------------------------------------------------------------------\u001b[0m",
      "\u001b[1;31mValueError\u001b[0m                                Traceback (most recent call last)",
      "\u001b[1;32m~\\AppData\\Local\\Temp\\ipykernel_19232\\3681363936.py\u001b[0m in \u001b[0;36m?\u001b[1;34m()\u001b[0m\n\u001b[0;32m     29\u001b[0m         \u001b[0mparsed_values\u001b[0m \u001b[1;33m=\u001b[0m \u001b[0mpd\u001b[0m\u001b[1;33m.\u001b[0m\u001b[0mto_numeric\u001b[0m\u001b[1;33m(\u001b[0m\u001b[0mcolumn_data\u001b[0m\u001b[1;33m,\u001b[0m \u001b[0merrors\u001b[0m\u001b[1;33m=\u001b[0m\u001b[1;34m'raise'\u001b[0m\u001b[1;33m)\u001b[0m\u001b[1;33m\u001b[0m\u001b[1;33m\u001b[0m\u001b[0m\n\u001b[0;32m     30\u001b[0m     \u001b[1;32mexcept\u001b[0m\u001b[1;33m:\u001b[0m\u001b[1;33m\u001b[0m\u001b[1;33m\u001b[0m\u001b[0m\n\u001b[0;32m     31\u001b[0m         \u001b[0mprint\u001b[0m\u001b[1;33m(\u001b[0m\u001b[1;34m''\u001b[0m\u001b[1;33m)\u001b[0m\u001b[1;33m\u001b[0m\u001b[1;33m\u001b[0m\u001b[0m\n\u001b[0;32m     32\u001b[0m \u001b[1;33m\u001b[0m\u001b[0m\n\u001b[1;32m---> 33\u001b[1;33m     \u001b[1;32mif\u001b[0m \u001b[1;33m(\u001b[0m\u001b[0mparsed_values\u001b[0m \u001b[1;33m!=\u001b[0m \u001b[0mcolumn_data\u001b[0m\u001b[1;33m)\u001b[0m\u001b[1;33m:\u001b[0m\u001b[1;33m\u001b[0m\u001b[1;33m\u001b[0m\u001b[0m\n\u001b[0m\u001b[0;32m     34\u001b[0m         \u001b[0munexpected_values\u001b[0m\u001b[1;33m[\u001b[0m\u001b[0mcolumn\u001b[0m\u001b[1;33m]\u001b[0m \u001b[1;33m=\u001b[0m \u001b[0mcolumn_data\u001b[0m\u001b[1;33m\u001b[0m\u001b[1;33m\u001b[0m\u001b[0m\n\u001b[0;32m     35\u001b[0m \u001b[1;33m\u001b[0m\u001b[0m\n\u001b[0;32m     36\u001b[0m \u001b[1;31m# Update unexpected values with unique values for each column\u001b[0m\u001b[1;33m\u001b[0m\u001b[1;33m\u001b[0m\u001b[0m\n",
      "\u001b[1;32m~\\AppData\\Roaming\\Python\\Python310\\site-packages\\pandas\\core\\generic.py\u001b[0m in \u001b[0;36m?\u001b[1;34m(self)\u001b[0m\n\u001b[0;32m   1517\u001b[0m     \u001b[1;33m@\u001b[0m\u001b[0mfinal\u001b[0m\u001b[1;33m\u001b[0m\u001b[1;33m\u001b[0m\u001b[0m\n\u001b[0;32m   1518\u001b[0m     \u001b[1;32mdef\u001b[0m \u001b[0m__nonzero__\u001b[0m\u001b[1;33m(\u001b[0m\u001b[0mself\u001b[0m\u001b[1;33m)\u001b[0m \u001b[1;33m->\u001b[0m \u001b[0mNoReturn\u001b[0m\u001b[1;33m:\u001b[0m\u001b[1;33m\u001b[0m\u001b[1;33m\u001b[0m\u001b[0m\n\u001b[1;32m-> 1519\u001b[1;33m         raise ValueError(\n\u001b[0m\u001b[0;32m   1520\u001b[0m             \u001b[1;34mf\"The truth value of a {type(self).__name__} is ambiguous. \"\u001b[0m\u001b[1;33m\u001b[0m\u001b[1;33m\u001b[0m\u001b[0m\n\u001b[0;32m   1521\u001b[0m             \u001b[1;34m\"Use a.empty, a.bool(), a.item(), a.any() or a.all().\"\u001b[0m\u001b[1;33m\u001b[0m\u001b[1;33m\u001b[0m\u001b[0m\n\u001b[0;32m   1522\u001b[0m         )\n",
      "\u001b[1;31mValueError\u001b[0m: The truth value of a Series is ambiguous. Use a.empty, a.bool(), a.item(), a.any() or a.all()."
     ]
    }
   ],
   "source": [
    "#check the columns and values if they are not matching with their expected types\n",
    "df = basketBallData\n",
    "\n",
    "# Define list of numeric columns and expected data types\n",
    "numericColumns = {\n",
    "    'Tournament': 'int64',\n",
    "    'Score': 'int64',\n",
    "    'PlayedGames': 'int64',\n",
    "    'WonGames': 'int64',\n",
    "    'DrawnGames': 'int64',\n",
    "    'LostGames': 'int64',\n",
    "    'BasketScored': 'int64',\n",
    "    'BasketGiven': 'int64',\n",
    "    'TournamentChampion': 'int64',\n",
    "    'Runner-up': 'int64',\n",
    "    'HighestPositionHeld': 'int64'\n",
    "}\n",
    "\n",
    "# Check for anomalies or incorrect data in each column\n",
    "\n",
    "# Store unexpected values for each column\n",
    "unexpected_values = {}\n",
    "\n",
    "for column in numericColumns.items():\n",
    "    column_data = df[column]\n",
    "    \n",
    "    # if the parsing is failed , then store those values to unexpected_values \n",
    "    try:\n",
    "        parsed_values = pd.to_numeric(column_data, errors='raise')\n",
    "    except:\n",
    "        print('')\n",
    "\n",
    "    if (parsed_values != column_data):\n",
    "        unexpected_values[column] = column_data\n",
    "\n",
    "# Update unexpected values with unique values for each column\n",
    "for column, values in unexpected_values.items():\n",
    "    unexpected_values[column] = values.tolist()\n",
    "    \n",
    "# Print unique unexpected values for each column\n",
    "for column, values in unexpected_values.items():\n",
    "    print(f\"Column '{column}': Unexpected values: {values}\")\n"
   ]
  },
  {
   "cell_type": "code",
   "execution_count": null,
   "metadata": {},
   "outputs": [],
   "source": [
    "## Data Cleaning\n",
    "#1. TeamLaunch column\n",
    "#The TeamLaunch column has inconsistent data , this column shows when the team was launched, it shows year or  year range\n",
    "#To show year range some places a delimeter of '-' is used, someplace a keyword 'to' is used \n",
    "#Clean the data to have single delimeter of '-' instead of 'to' \n",
    "\n",
    "#2."
   ]
  },
  {
   "cell_type": "code",
   "execution_count": null,
   "metadata": {},
   "outputs": [],
   "source": []
  },
  {
   "cell_type": "code",
   "execution_count": 160,
   "metadata": {},
   "outputs": [
    {
     "ename": "TypeError",
     "evalue": "'numpy.dtypes.ObjectDType' object is not callable",
     "output_type": "error",
     "traceback": [
      "\u001b[1;31m---------------------------------------------------------------------------\u001b[0m",
      "\u001b[1;31mTypeError\u001b[0m                                 Traceback (most recent call last)",
      "Cell \u001b[1;32mIn[160], line 7\u001b[0m\n\u001b[0;32m      4\u001b[0m \u001b[38;5;66;03m# Convert DataFrame to NumPy array\u001b[39;00m\n\u001b[0;32m      5\u001b[0m final_dataset \u001b[38;5;241m=\u001b[39m df\u001b[38;5;241m.\u001b[39mvalues\n\u001b[1;32m----> 7\u001b[0m \u001b[38;5;28mprint\u001b[39m(\u001b[43mfinal_dataset\u001b[49m\u001b[38;5;241;43m.\u001b[39;49m\u001b[43mdtype\u001b[49m\u001b[43m(\u001b[49m\u001b[43m)\u001b[49m)\n\u001b[0;32m      9\u001b[0m \u001b[38;5;66;03m# Grouping the data by team and counting the number of tournaments played\u001b[39;00m\n\u001b[0;32m     10\u001b[0m tournaments_played \u001b[38;5;241m=\u001b[39m final_dataset\u001b[38;5;241m.\u001b[39mgroupby(\u001b[38;5;124m'\u001b[39m\u001b[38;5;124mTeam\u001b[39m\u001b[38;5;124m'\u001b[39m)[\u001b[38;5;124m'\u001b[39m\u001b[38;5;124mTournament\u001b[39m\u001b[38;5;124m'\u001b[39m]\u001b[38;5;241m.\u001b[39mcount()\n",
      "\u001b[1;31mTypeError\u001b[0m: 'numpy.dtypes.ObjectDType' object is not callable"
     ]
    }
   ],
   "source": [
    "import numpy as np\n",
    "import matplotlib.pyplot as plt\n",
    "\n",
    "# Convert DataFrame to NumPy array\n",
    "final_dataset = df.values\n",
    "\n",
    "print(final_dataset.dtype())\n",
    "\n",
    "# Grouping the data by team and counting the number of tournaments played\n",
    "tournaments_played = final_dataset.groupby('Team')['Tournament'].count()\n",
    "\n",
    "# Sorting the teams based on the number of tournaments played\n",
    "tournaments_played_sorted = tournaments_played.sort_values(ascending=False)\n",
    "\n",
    "# Plotting the bar plot\n",
    "plt.figure(figsize=(10, 6))\n",
    "tournaments_played_sorted.plot(kind='bar', color='skyblue')\n",
    "plt.title('Number of Tournaments Played by Each Team')\n",
    "plt.xlabel('Team')\n",
    "plt.ylabel('Number of Tournaments')\n",
    "plt.xticks(rotation=45, ha='right')  # Rotate x-axis labels for better readability\n",
    "plt.tight_layout()  # Adjust layout to prevent clipping of labels\n",
    "plt.show()"
   ]
  }
 ],
 "metadata": {
  "kernelspec": {
   "display_name": "Python 3",
   "language": "python",
   "name": "python3"
  },
  "language_info": {
   "codemirror_mode": {
    "name": "ipython",
    "version": 3
   },
   "file_extension": ".py",
   "mimetype": "text/x-python",
   "name": "python",
   "nbconvert_exporter": "python",
   "pygments_lexer": "ipython3",
   "version": "3.10.5"
  }
 },
 "nbformat": 4,
 "nbformat_minor": 2
}
