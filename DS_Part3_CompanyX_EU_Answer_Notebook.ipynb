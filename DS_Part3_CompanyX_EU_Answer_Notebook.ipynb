{
 "cells": [
  {
   "cell_type": "markdown",
   "metadata": {},
   "source": [
    "DOMAIN: Startup ecosystem\n",
    "• CONTEXT: Company X is a EU online publisher focusing on the startups industry. The company specifically reports on the business related to \n",
    "technology news, analysis of emerging trends and profiling of new tech businesses and products. Their event i.e. Startup Battlefield is the world’s \n",
    "pre-eminent startup competition. Startup Battlefield features 15-30 top early stage startups pitching top judges in front of a vast live audience, \n",
    "present in person and online.\n",
    "• DATA DESCRIPTION: CompanyX_EU.csv - Each row in the dataset is a Start-up company and the columns describe the company. \n",
    "• DATA DICTIONARY:\n",
    "1. Startup: Name of the company\n",
    "2. Product: Actual product\n",
    "3. Funding: Funds raised by the company in USD\n",
    "4. Event: The event the company participated in\n",
    "5. Result: Described by Contestant, Finalist, Audience choice, Winner or Runner up\n",
    "6. OperatingState: Current status of the company, Operating ,Closed, Acquired or IPO\n",
    "*Dataset has been downloaded from the internet. All the credit for the dataset goes to the original creator of the data.\n",
    "• PROJECT OBJECTIVE: Analyse the data of the various companies from the given dataset and perform the tasks that are specified in the below \n",
    "steps. Draw insights from the various attributes that are present in the dataset, plot distributions, state hypotheses and draw conclusions from \n",
    "the dataset.\n",
    "\n",
    "PROJECT OBJECTIVE: Analyse the data of the various companies from the given dataset and perform the tasks that are specified in the below \n",
    "steps. Draw insights from the various attributes that are present in the dataset, plot distributions, state hypotheses and draw conclusions from \n",
    "the dataset"
   ]
  },
  {
   "cell_type": "markdown",
   "metadata": {},
   "source": [
    "STEPS AND TASK [15 Marks]:\n",
    "1. Read the CSV file.\n",
    "2. Data Exploration: [1 Mark]\n",
    "A. Check the datatypes of each attribute.\n",
    "B. Check for null values in the attributes"
   ]
  },
  {
   "cell_type": "code",
   "execution_count": 3,
   "metadata": {},
   "outputs": [
    {
     "name": "stdout",
     "output_type": "stream",
     "text": [
      "           Startup             Product Funding             Event  \\\n",
      "0           2600Hz          2600hz.com     NaN   Disrupt SF 2013   \n",
      "1             3DLT            3dlt.com   $630K  Disrupt NYC 2013   \n",
      "2      3DPrinterOS     3dprinteros.com     NaN   Disrupt SF 2016   \n",
      "3       3Dprintler      3dprintler.com     $1M   Disrupt NY 2016   \n",
      "4  42 Technologies  42technologies.com     NaN  Disrupt NYC 2013   \n",
      "\n",
      "            Result OperatingState  \n",
      "0       Contestant      Operating  \n",
      "1       Contestant         Closed  \n",
      "2       Contestant      Operating  \n",
      "3  Audience choice      Operating  \n",
      "4       Contestant      Operating  \n"
     ]
    }
   ],
   "source": [
    "import numpy as np\n",
    "import pandas as pd\n",
    "\n",
    "# Loading the CSV file\n",
    "df = pd.read_csv('DS_Part3_CompanyX_EU.csv')\n",
    "\n",
    "# look at a quick view \n",
    "print(df.head(5))\n"
   ]
  },
  {
   "cell_type": "code",
   "execution_count": 4,
   "metadata": {},
   "outputs": [
    {
     "name": "stdout",
     "output_type": "stream",
     "text": [
      "Startup           object\n",
      "Product           object\n",
      "Funding           object\n",
      "Event             object\n",
      "Result            object\n",
      "OperatingState    object\n",
      "dtype: object\n"
     ]
    }
   ],
   "source": [
    "# Check the data types of each attribute\n",
    "print(df.dtypes)"
   ]
  },
  {
   "cell_type": "code",
   "execution_count": 5,
   "metadata": {},
   "outputs": [
    {
     "name": "stdout",
     "output_type": "stream",
     "text": [
      "Startup             0\n",
      "Product             6\n",
      "Funding           214\n",
      "Event               0\n",
      "Result              0\n",
      "OperatingState      0\n",
      "dtype: int64\n"
     ]
    }
   ],
   "source": [
    "# Check for null values in the attributes\n",
    "print(df.isnull().sum())"
   ]
  },
  {
   "cell_type": "markdown",
   "metadata": {},
   "source": [
    "3. Data preprocessing & visualisation: [4 Marks]\n",
    "A. Drop the null values. [1 Mark]\n",
    "B. Convert the ‘Funding’ features to a numerical value.\n",
    "(Execute below code)\n",
    "df1.loc[:,'Funds_in_million'] = df1['Funding'].apply(lambda x: float(x[1:-1])/1000 if x[-1] == 'K' else (float(x[1:-1])*1000 if x[-1] == 'B' else float(x[1:-1])))\n",
    "C. Plot box plot for funds in million. [1 Mark]\n",
    "D. Check the number of outliers greater than the upper fence. [1 Mark]\n",
    "E. Check frequency of the OperatingState features classes. [1 Mark]"
   ]
  },
  {
   "cell_type": "code",
   "execution_count": 6,
   "metadata": {},
   "outputs": [
    {
     "name": "stdout",
     "output_type": "stream",
     "text": [
      "Startup           0\n",
      "Product           0\n",
      "Funding           0\n",
      "Event             0\n",
      "Result            0\n",
      "OperatingState    0\n",
      "dtype: int64\n"
     ]
    }
   ],
   "source": [
    "# Drop the null values\n",
    "df = df.dropna()\n",
    "\n",
    "# Confirm that null values have been dropped\n",
    "print(df.isnull().sum())"
   ]
  },
  {
   "cell_type": "code",
   "execution_count": 7,
   "metadata": {},
   "outputs": [
    {
     "data": {
      "text/plain": [
       "<bound method NDFrame.head of           Startup          Product Funding                      Event  \\\n",
       "1            3DLT         3dlt.com   $630K           Disrupt NYC 2013   \n",
       "3      3Dprintler   3dprintler.com     $1M            Disrupt NY 2016   \n",
       "5            5to1         5to1.com  $19.3M                  TC50 2009   \n",
       "6    8 Securities  8securities.com    $29M       Disrupt Beijing 2011   \n",
       "10     AdhereTech   adheretech.com   $1.8M  Hardware Battlefield 2014   \n",
       "..            ...              ...     ...                        ...   \n",
       "657        Zivity       zivity.com     $8M                  TC40 2007   \n",
       "658        Zmorph     zmorph3d.com     $1M                          -   \n",
       "659        Zocdoc       zocdoc.com   $223M                  TC40 2007   \n",
       "660          Zula      zulaapp.com   $3.4M            Disrupt SF 2013   \n",
       "661        Zumper       zumper.com  $31.5M            Disrupt SF 2012   \n",
       "\n",
       "              Result OperatingState  \n",
       "1         Contestant         Closed  \n",
       "3    Audience choice      Operating  \n",
       "5         Contestant       Acquired  \n",
       "6           Finalist      Operating  \n",
       "10        Contestant      Operating  \n",
       "..               ...            ...  \n",
       "657       Contestant      Operating  \n",
       "658  Audience choice      Operating  \n",
       "659       Contestant      Operating  \n",
       "660  Audience choice      Operating  \n",
       "661         Finalist      Operating  \n",
       "\n",
       "[446 rows x 6 columns]>"
      ]
     },
     "execution_count": 7,
     "metadata": {},
     "output_type": "execute_result"
    }
   ],
   "source": [
    "df.head"
   ]
  },
  {
   "cell_type": "code",
   "execution_count": 8,
   "metadata": {},
   "outputs": [
    {
     "name": "stdout",
     "output_type": "stream",
     "text": [
      "1      0.6300\n",
      "3      1.0000\n",
      "5     19.3000\n",
      "6     29.0000\n",
      "10     1.8000\n",
      "11     1.0000\n",
      "13     1.0000\n",
      "14     0.7500\n",
      "15     0.0179\n",
      "16    11.6000\n",
      "Name: Funds_in_million, dtype: float64\n"
     ]
    }
   ],
   "source": [
    "\n",
    "df1= df.copy()\n",
    "\n",
    "# Add Funds_in_million column\n",
    "df1['Funds_in_million'] = df['Funding'].apply(lambda x: float(x[1:-1])/1000 if x[-1] == 'K' else (float(x[1:-1])*1000 if x[-1] == 'B' else float(x[1:-1])))\n",
    "\n",
    "\n",
    "# Confirm the conversion\n",
    "print(df1['Funds_in_million'].head(10))\n",
    "\n",
    "\n",
    "# # Remove '$' sign from funding values\n",
    "# df1['Funding'] = df1['Funding'].str.replace('$', '')\n",
    "\n",
    "# # Replace 'K' with '000' and 'M' with '000000'\n",
    "# df1['Funding'] = df1['Funding'].str.replace('K', '000').str.replace('M', '000000')\n",
    "\n",
    "# # Convert 'Funding' column to numeric\n",
    "# df1['Funding'] = pd.to_numeric(df1['Funding'], errors='coerce')"
   ]
  },
  {
   "cell_type": "code",
   "execution_count": 9,
   "metadata": {},
   "outputs": [
    {
     "data": {
      "image/png": "[encoded data removed]",
      "text/plain": [
       "<Figure size 800x600 with 1 Axes>"
      ]
     },
     "metadata": {},
     "output_type": "display_data"
    }
   ],
   "source": [
    "import matplotlib.pyplot as plt\n",
    "\n",
    "# Plot box plot for Funds_in_million\n",
    "plt.figure(figsize=(8, 6))\n",
    "plt.boxplot(df1['Funds_in_million'], vert=False)\n",
    "plt.xlabel('Funding Amount (in Million)')\n",
    "plt.title('Box Plot of Funding Amount')\n",
    "plt.show()"
   ]
  },
  {
   "cell_type": "code",
   "execution_count": 10,
   "metadata": {},
   "outputs": [
    {
     "name": "stdout",
     "output_type": "stream",
     "text": [
      "Number of outliers greater than the upper fence: 60\n"
     ]
    }
   ],
   "source": [
    "# Calculate the first quartile (Q1)\n",
    "Q1 = df1['Funds_in_million'].quantile(0.25)\n",
    "\n",
    "# Calculate the third quartile (Q3)\n",
    "Q3 = df1['Funds_in_million'].quantile(0.75)\n",
    "\n",
    "# Calculate the interquartile range (IQR)\n",
    "IQR = Q3 - Q1\n",
    "\n",
    "# Calculate the upper fence\n",
    "upper_fence = Q3 + 1.5 * IQR\n",
    "\n",
    "# Count the number of outliers greater than the upper fence\n",
    "outliers_count = len(df1[df1['Funds_in_million'] > upper_fence])\n",
    "\n",
    "# Display the number of outliers\n",
    "print(\"Number of outliers greater than the upper fence:\", outliers_count)\n"
   ]
  },
  {
   "cell_type": "code",
   "execution_count": 11,
   "metadata": {},
   "outputs": [
    {
     "name": "stdout",
     "output_type": "stream",
     "text": [
      "Frequency of OperatingState feature classes:\n",
      "OperatingState\n",
      "Operating    319\n",
      "Acquired      66\n",
      "Closed        57\n",
      "Ipo            4\n",
      "Name: count, dtype: int64\n"
     ]
    }
   ],
   "source": [
    "# Check frequency of OperatingState feature classes\n",
    "operating_state_frequency = df1['OperatingState'].value_counts()\n",
    "\n",
    "# Print the frequency of classes\n",
    "print(\"Frequency of OperatingState feature classes:\")\n",
    "print(operating_state_frequency)\n"
   ]
  },
  {
   "cell_type": "markdown",
   "metadata": {},
   "source": [
    "4. Statistical Analysis: [10 Marks]\n",
    "A. Is there any significant difference between Funds raised by companies that are still operating vs companies that closed down? [1 Mark]\n",
    "B. Write the null hypothesis and alternative hypothesis. [1 Mark]\n",
    "C. Test for significance and conclusion [1 Mark]\n",
    "D. Make a copy of the original data frame. [1 Mark]\n",
    "E. Check frequency distribution of Result variables. [1 Mark]\n",
    "F. Calculate percentage of winners that are still operating and percentage of contestants that are still operating [1 Mark]\n",
    "G. Write your hypothesis comparing the proportion of companies that are operating between winners and contestants: [2 Mark]\n",
    "H. Test for significance and conclusion [1 Mark]\n",
    "I. Select only the Event that has ‘disrupt’ keyword from 2013 onwards."
   ]
  },
  {
   "cell_type": "code",
   "execution_count": 12,
   "metadata": {},
   "outputs": [
    {
     "name": "stdout",
     "output_type": "stream",
     "text": [
      "T-statistic: 2.6727214329249227\n",
      "P-value: 0.007898898722704632\n",
      "Reject the null hypothesis. There is a significant difference between funds raised by companies that are still operating and companies that closed down.\n"
     ]
    }
   ],
   "source": [
    "from scipy.stats import ttest_ind\n",
    "\n",
    "# Separate funds raised by companies that are still operating and companies that closed down\n",
    "funds_operating = df1[df1['OperatingState'] == 'Operating']['Funds_in_million']\n",
    "funds_closed = df1[df1['OperatingState'] == 'Closed']['Funds_in_million']\n",
    "\n",
    "# Perform t-test\n",
    "t_statistic, p_value = ttest_ind(funds_operating, funds_closed, equal_var=False)\n",
    "\n",
    "# Set significance level\n",
    "alpha = 0.05\n",
    "\n",
    "# Print the results\n",
    "print(\"T-statistic:\", t_statistic)\n",
    "print(\"P-value:\", p_value)\n",
    "\n",
    "if p_value < alpha:\n",
    "    print(\"Reject the null hypothesis. There is a significant difference between funds raised by companies that are still operating and companies that closed down.\")\n",
    "else:\n",
    "    print(\"Fail to reject the null hypothesis. There is no significant difference between funds raised by companies that are still operating and companies that closed down.\")\n"
   ]
  },
  {
   "cell_type": "code",
   "execution_count": 13,
   "metadata": {},
   "outputs": [],
   "source": [
    "#Write the null hypothesis and alternative hypothesis\n",
    "\n",
    "# Anwer:\n",
    "# Null Hypothesis (H0): There is no significant difference in the mean funds raised by companies that are still operating and companies that closed down.\n",
    "\n",
    "# H0: μ_operating = μ_closed\n",
    "# Alternative Hypothesis (H1): There is a significant difference in the mean funds raised by companies that are still operating and companies that closed down.\n",
    "\n",
    "# H1: μ_operating ≠ μ_closed\n",
    "# In plain terms, the null hypothesis suggests that the mean funds raised by companies that are still operating are equal to the mean funds raised by companies that closed down. The alternative hypothesis suggests that there is a difference in the mean funds raised between these two groups.\n",
    "\n",
    "# During hypothesis testing, we evaluate the evidence from the data to determine whether to reject the null hypothesis in favor of the alternative hypothesis, based on the calculated test statistic and p-value."
   ]
  },
  {
   "cell_type": "markdown",
   "metadata": {},
   "source": [
    "#Question: Test for significance and conclusion"
   ]
  },
  {
   "cell_type": "code",
   "execution_count": 14,
   "metadata": {},
   "outputs": [
    {
     "name": "stdout",
     "output_type": "stream",
     "text": [
      "T-statistic: 2.6727214329249227\n",
      "P-value: 0.007898898722704632\n",
      "Reject the null hypothesis. There is a significant difference between funds raised by companies that are still operating and companies that closed down.\n"
     ]
    }
   ],
   "source": [
    "# Perform t-test\n",
    "t_statistic, p_value = ttest_ind(funds_operating, funds_closed, equal_var=False)\n",
    "\n",
    "# Set significance level\n",
    "alpha = 0.05\n",
    "\n",
    "# Print the results\n",
    "print(\"T-statistic:\", t_statistic)\n",
    "print(\"P-value:\", p_value)\n",
    "\n",
    "# Check for significance\n",
    "if p_value < alpha:\n",
    "    print(\"Reject the null hypothesis. There is a significant difference between funds raised by companies that are still operating and companies that closed down.\")\n",
    "else:\n",
    "    print(\"Fail to reject the null hypothesis. There is no significant difference between funds raised by companies that are still operating and companies that closed down.\")\n"
   ]
  },
  {
   "cell_type": "code",
   "execution_count": 15,
   "metadata": {},
   "outputs": [],
   "source": [
    "#Make a copy of the original data frame.\n",
    "\n",
    "df2 = df1.copy()"
   ]
  },
  {
   "cell_type": "code",
   "execution_count": 16,
   "metadata": {},
   "outputs": [
    {
     "name": "stdout",
     "output_type": "stream",
     "text": [
      "Frequency distribution of Result variable:\n",
      "Result\n",
      "Contestant         312\n",
      "Finalist            65\n",
      "Audience choice     25\n",
      "Winner              25\n",
      "Runner up           19\n",
      "Name: count, dtype: int64\n"
     ]
    }
   ],
   "source": [
    "# Check frequency distribution of Result variable\n",
    "result_frequency = df2['Result'].value_counts()\n",
    "\n",
    "# Print the frequency distribution\n",
    "print(\"Frequency distribution of Result variable:\")\n",
    "print(result_frequency)\n"
   ]
  },
  {
   "cell_type": "markdown",
   "metadata": {},
   "source": [
    "Calculate percentage of winners that are still operating and percentage of contestants that are still operating "
   ]
  },
  {
   "cell_type": "code",
   "execution_count": 17,
   "metadata": {},
   "outputs": [
    {
     "name": "stdout",
     "output_type": "stream",
     "text": [
      "Percentage of winners that are still operating: 72.0\n",
      "Percentage of contestants that are still operating: 68.58974358974359\n",
      "Percentage of winners that are not operating: 28.000000000000004\n",
      "Percentage of contestants that are not operating: 31.41025641025641\n"
     ]
    }
   ],
   "source": [
    "# Calculate the total number of winners\n",
    "total_winners = df2[df2['Result'] == 'Winner'].shape[0]\n",
    "\n",
    "# Calculate the total number of contestants\n",
    "total_contestants = df2[df2['Result'] == 'Contestant'].shape[0]\n",
    "\n",
    "# Calculate the number of winners that are still operating\n",
    "winners_operating = df2[(df2['Result'] == 'Winner') & (df2['OperatingState'] == 'Operating')].shape[0]\n",
    "\n",
    "# Calculate the number of contestants that are still operating\n",
    "contestants_operating = df2[(df2['Result'] == 'Contestant') & (df2['OperatingState'] == 'Operating')].shape[0]\n",
    "\n",
    "# Calculate the percentages\n",
    "percentage_winners_operating = (winners_operating / total_winners) * 100\n",
    "percentage_contestants_operating = (contestants_operating / total_contestants) * 100\n",
    "\n",
    "# Print the percentages\n",
    "print(\"Percentage of winners that are still operating:\", percentage_winners_operating)\n",
    "print(\"Percentage of contestants that are still operating:\", percentage_contestants_operating)\n",
    "\n",
    "# Calculate the number of winners that are not operating\n",
    "winners_not_operating = df2[(df2['Result'] == 'Winner') & (df2['OperatingState'] != 'Operating')].shape[0]\n",
    "\n",
    "# Calculate the number of contestants that are not operating\n",
    "contestants_not_operating = df2[(df2['Result'] == 'Contestant') & (df2['OperatingState'] != 'Operating')].shape[0]\n",
    "\n",
    "# Calculate the percentages\n",
    "percentage_winners_not_operating = (winners_not_operating / total_winners) * 100\n",
    "percentage_contestants_not_operating = (contestants_not_operating / total_contestants) * 100\n",
    "\n",
    "# Print the percentages\n",
    "print(\"Percentage of winners that are not operating:\", percentage_winners_not_operating)\n",
    "print(\"Percentage of contestants that are not operating:\", percentage_contestants_not_operating)\n"
   ]
  },
  {
   "cell_type": "markdown",
   "metadata": {},
   "source": [
    "Write your hypothesis comparing the proportion of companies that are operating between winners and contestants:\n",
    "\n",
    "Answer:\n",
    "The Null Hypothesis suggests that the proportion of operational companies is equal among both winners and contestants. The Alternative Hypothesis argues that there's a difference in this proportion.\n",
    "\n",
    "To break it down, the Null Hypothesis assumes that the percentage of operational companies among winners is the same as among contestants. On the other hand, the Alternative Hypothesis implies there's a distinction in these percentages.\n",
    "\n",
    "I'll perform a test to check if this difference (in the below section), if any, is significant. If the test reveals a p-value lower than 0.05 (a common threshold), we reject the Null Hypothesis, indicating a significant difference. If not, we cannot reject the Null Hypothesis, suggesting there's no significant difference."
   ]
  },
  {
   "cell_type": "code",
   "execution_count": null,
   "metadata": {},
   "outputs": [
    {
     "name": "stdout",
     "output_type": "stream",
     "text": [
      "Z-statistic: 0.3542506401722957\n",
      "P-value: 0.7231510556194247\n",
      "Fail to reject the null hypothesis. There is no significant difference in the proportion of operational companies between winners and contestants.\n"
     ]
    }
   ],
   "source": [
    "import numpy as np\n",
    "from scipy.stats import norm\n",
    "\n",
    "# Observed counts\n",
    "successes = np.array([winners_operating, contestants_operating])\n",
    "nobs = np.array([total_winners, total_contestants])\n",
    "\n",
    "# Proportion of operational companies among winners and contestants\n",
    "p1 = successes[0] / nobs[0]\n",
    "p2 = successes[1] / nobs[1]\n",
    "\n",
    "# Combined proportion\n",
    "p_combined = (successes[0] + successes[1]) / (nobs[0] + nobs[1])\n",
    "\n",
    "# Standard error\n",
    "se = np.sqrt(p_combined * (1 - p_combined) * (1 / nobs[0] + 1 / nobs[1]))\n",
    "\n",
    "# Z-score\n",
    "z_score = (p1 - p2) / se\n",
    "\n",
    "# Two-tailed p-value\n",
    "p_value = 2 * (1 - norm.cdf(np.abs(z_score)))\n",
    "\n",
    "# Print the results\n",
    "print(\"Z-statistic:\", z_score)\n",
    "print(\"P-value:\", p_value)\n",
    "\n",
    "# Check for significance\n",
    "if p_value < alpha:\n",
    "    print(\"Reject the null hypothesis. There is a significant difference in the proportion of operational companies between winners and contestants.\")\n",
    "else:\n",
    "    print(\"Fail to reject the null hypothesis. There is no significant difference in the proportion of operational companies between winners and contestants.\")\n"
   ]
  },
  {
   "cell_type": "markdown",
   "metadata": {},
   "source": [
    "Select only the Event that has ‘disrupt’ keyword from 2013 onwards. ["
   ]
  },
  {
   "cell_type": "code",
   "execution_count": 21,
   "metadata": {},
   "outputs": [
    {
     "name": "stdout",
     "output_type": "stream",
     "text": [
      "    Startup Product Funding Event Result OperatingState  Funds_in_million\n",
      "1       NaN     NaN     NaN   NaN    NaN            NaN               NaN\n",
      "3       NaN     NaN     NaN   NaN    NaN            NaN               NaN\n",
      "5       NaN     NaN     NaN   NaN    NaN            NaN               NaN\n",
      "6       NaN     NaN     NaN   NaN    NaN            NaN               NaN\n",
      "10      NaN     NaN     NaN   NaN    NaN            NaN               NaN\n",
      "..      ...     ...     ...   ...    ...            ...               ...\n",
      "657     NaN     NaN     NaN   NaN    NaN            NaN               NaN\n",
      "658     NaN     NaN     NaN   NaN    NaN            NaN               NaN\n",
      "659     NaN     NaN     NaN   NaN    NaN            NaN               NaN\n",
      "660     NaN     NaN     NaN   NaN    NaN            NaN               NaN\n",
      "661     NaN     NaN     NaN   NaN    NaN            NaN               NaN\n",
      "\n",
      "[446 rows x 7 columns]\n"
     ]
    }
   ],
   "source": [
    "# Convert 'Event' column to string type to use str.contains() method\n",
    "df2['Event'] = df2['Event'].astype(str)\n",
    "\n",
    "# Select rows where 'Event' contains 'disrupt' and the year is 2013 or onwards\n",
    "disrupt_events_2013_onwards = df2[df2['Event'].str.contains('disrupt', case=False) & (df2['Event'].str.extract(r'(\\d{4})').astype(float) >= 2013)]\n",
    "\n",
    "# Display the selected rows\n",
    "print(disrupt_events_2013_onwards)\n"
   ]
  }
 ],
 "metadata": {
  "kernelspec": {
   "display_name": "Python 3",
   "language": "python",
   "name": "python3"
  },
  "language_info": {
   "codemirror_mode": {
    "name": "ipython",
    "version": 3
   },
   "file_extension": ".py",
   "mimetype": "text/x-python",
   "name": "python",
   "nbconvert_exporter": "python",
   "pygments_lexer": "ipython3",
   "version": "3.10.5"
  }
 },
 "nbformat": 4,
 "nbformat_minor": 2
}
